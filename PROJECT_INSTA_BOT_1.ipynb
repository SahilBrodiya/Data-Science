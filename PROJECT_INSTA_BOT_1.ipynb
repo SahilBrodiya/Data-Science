{
 "cells": [
  {
   "cell_type": "markdown",
   "metadata": {},
   "source": [
    "# Don't forget to input your username and password. Each code is tested. If there is some problem, rerun the code with previous conditions. It will work fine. Thank you. Also change driver's path"
   ]
  },
  {
   "cell_type": "code",
   "execution_count": 2,
   "metadata": {
    "scrolled": true
   },
   "outputs": [
    {
     "name": "stdout",
     "output_type": "stream",
     "text": [
      "Collecting package metadata (current_repodata.json): ...working... done\n",
      "Note: you may need to restart the kernel to use updated packages.\n",
      "Solving environment: ...working... done\n",
      "\n",
      "# All requested packages already installed.\n",
      "\n",
      "\n"
     ]
    }
   ],
   "source": [
    "conda install selenium"
   ]
  },
  {
   "cell_type": "code",
   "execution_count": 1,
   "metadata": {},
   "outputs": [],
   "source": [
    "from selenium import webdriver\n",
    "from selenium.webdriver.common.keys import Keys\n",
    "from selenium.common.exceptions import NoSuchElementException\n",
    "from selenium.common.exceptions import StaleElementReferenceException\n",
    "from selenium.common.exceptions import TimeoutException\n",
    "from selenium.webdriver.chrome.options import Options\n",
    "from selenium.webdriver.support.ui import WebDriverWait\n",
    "from selenium.webdriver.support import expected_conditions as EC\n",
    "from selenium.webdriver.common.by import By\n",
    "from selenium.webdriver.support.select import Select\n",
    "import time\n",
    "from bs4 import BeautifulSoup"
   ]
  },
  {
   "cell_type": "code",
   "execution_count": 14,
   "metadata": {},
   "outputs": [],
   "source": [
    "username = \"Sample username\"\n",
    "password = \"Sample password\""
   ]
  },
  {
   "cell_type": "code",
   "execution_count": 3,
   "metadata": {},
   "outputs": [],
   "source": [
    "driver = webdriver.Chrome(executable_path = 'chromedriver')\n",
    "driver.maximize_window()"
   ]
  },
  {
   "cell_type": "markdown",
   "metadata": {},
   "source": [
    "# Q1 Login"
   ]
  },
  {
   "cell_type": "code",
   "execution_count": 4,
   "metadata": {},
   "outputs": [],
   "source": [
    "def login():\n",
    "#     driver = webdriver.Chrome(executable_path = 'chromedriver')\n",
    "    driver.get('https://www.instagram.com/')\n",
    "    time.sleep(4)\n",
    "    driver.find_element_by_xpath('//*[@id=\"loginForm\"]/div/div[1]/div/label/input').send_keys(username)\n",
    "    driver.find_element_by_xpath('//*[@id=\"loginForm\"]/div/div[2]/div/label/input').send_keys(password)\n",
    "    driver.find_element_by_xpath('//*[@id=\"loginForm\"]/div/div[3]').click()"
   ]
  },
  {
   "cell_type": "code",
   "execution_count": 7,
   "metadata": {},
   "outputs": [],
   "source": [
    "login()"
   ]
  },
  {
   "cell_type": "markdown",
   "metadata": {},
   "source": [
    "# Q2 Type for “food” in search bar and print all the names of the Instagram Handles that are displayed in list after typing “food”"
   ]
  },
  {
   "cell_type": "code",
   "execution_count": 13,
   "metadata": {},
   "outputs": [],
   "source": [
    "def search_food():\n",
    "    search_box=driver.find_element_by_class_name('TqC_a').click()\n",
    "    waiter=WebDriverWait(driver, 10).until(EC.presence_of_element_located((By.CLASS_NAME, \"XTCLo\")))\n",
    "    search_box=driver.find_element_by_class_name('XTCLo')\n",
    "    search_box.send_keys('food')\n",
    "    waiter=WebDriverWait(driver, 10).until(EC.presence_of_element_located((By.XPATH, '//a[@class=\"yCE8d  \"]/div/div[2]/div/span')))\n",
    "    for i in driver.find_elements_by_xpath('//a[@class=\"yCE8d  \"]/div/div[2]/div/span'):\n",
    "        ar = i.get_attribute('innerHTML')\n",
    "        if 'coreSpriteLocation' in ar:         # Remove Locations \n",
    "            pass\n",
    "        elif 'coreSpriteHashtag' in ar:        # Remove Hashtags\n",
    "            pass\n",
    "        else:\n",
    "            print(i.get_attribute('innerHTML'))\n",
    "    waiter=WebDriverWait(driver, 10).until(EC.presence_of_element_located((By.CLASS_NAME, \"coreSpriteSearchClear\")))"
   ]
  },
  {
   "cell_type": "code",
   "execution_count": 39,
   "metadata": {},
   "outputs": [
    {
     "name": "stdout",
     "output_type": "stream",
     "text": [
      "foodtalkindia\n",
      "dilsefoodie\n",
      "foodie_brat\n",
      "eatwithruchi\n",
      "yourfoodlab\n",
      "food_lunatic\n",
      "food\n",
      "foodyypreneur\n",
      "dilsefoodie._\n",
      "our_food_fantasy\n",
      "foodzaara\n",
      "sodelhited\n",
      "food_gambler\n",
      "food_belly11\n",
      "foodiies_world\n",
      "the_food_king_\n",
      "food_and_makeup_lover\n",
      "ndtv_food\n",
      "gourmetmusafir\n",
      "ruchika_asatkar\n",
      "hyderabad.food.diaries\n",
      "food_city_sec_2\n",
      "thisisdelhi\n",
      "buzzfeedfood\n",
      "delhifoodguide\n",
      "foodiesince96\n",
      "delhifoodwalks\n",
      "street_food_chandigarh\n",
      "hmm_nikhil\n",
      "food_travel_etc\n",
      "eatdelhifood\n",
      "_foodpaths_\n",
      "foodaholicgirish\n",
      "theindianfoodspy\n",
      "foodinsider\n",
      "foodie_anshul\n",
      "capturingraw\n",
      "eatguide\n",
      "the.food.stalwart\n",
      "foodshowbyj\n",
      "Horn Ok Please - Food Truck Festival\n",
      "bhukkhadbybirth\n",
      "food__crusaders\n",
      "foodiesdelhite\n",
      "food_foreplay\n",
      "myfoodproject\n",
      "foodisnirvana\n",
      "Food Mechanic\n",
      "Fun N Food Village\n",
      "fityetfoodie\n",
      "foodiliciousmoments\n",
      "tantalizefoodfactory\n"
     ]
    }
   ],
   "source": [
    "search_food()"
   ]
  },
  {
   "cell_type": "markdown",
   "metadata": {},
   "source": [
    "# Q3 Open profile of “So Delhi”"
   ]
  },
  {
   "cell_type": "code",
   "execution_count": 8,
   "metadata": {},
   "outputs": [],
   "source": [
    "# def se_profile(page_name):\n",
    "#     searchbox = WebDriverWait(driver, 10).until(EC.visibility_of_element_located((By.XPATH, \"//input[@placeholder='Search']\")))\n",
    "#     searchbox.clear()\n",
    "#     time.sleep(1)\n",
    "#     searchbox.send_keys('So Delhi')\n",
    "#     print(\"1\")\n",
    "#     searchbox.send_keys(Keys.ENTER)\n",
    "#     print(\"1\")\n",
    "    "
   ]
  },
  {
   "cell_type": "code",
   "execution_count": 15,
   "metadata": {},
   "outputs": [],
   "source": [
    "def see_profile(page_name):\n",
    "    driver.find_element_by_xpath('//*[@id=\"react-root\"]/section/nav/div[2]/div/div/div[2]/input').clear()\n",
    "    driver.find_element_by_xpath('//*[@id=\"react-root\"]/section/nav/div[2]/div/div/div[2]/input').click()\n",
    "    driver.find_element_by_xpath('//*[@id=\"react-root\"]/section/nav/div[2]/div/div/div[2]/input').send_keys(page_name)\n",
    "    time.sleep(4)\n",
    "    driver.find_element_by_xpath('//*[@id=\"react-root\"]/section/nav/div[2]/div/div/div[2]/div[3]/div[2]/div/a[1]/div').click()"
   ]
  },
  {
   "cell_type": "code",
   "execution_count": 16,
   "metadata": {},
   "outputs": [],
   "source": [
    "see_profile('SoDelhi')"
   ]
  },
  {
   "cell_type": "markdown",
   "metadata": {},
   "source": [
    "# Q4 Open the Instagram Handle of “So Delhi” , Start following it. Print a message if you are already following. After following, unfollow the instagram handle. Print a message if you have already unfollowed."
   ]
  },
  {
   "cell_type": "code",
   "execution_count": 17,
   "metadata": {},
   "outputs": [],
   "source": [
    "def follow_unfollow(a):\n",
    "    if a==1:\n",
    "        if driver.find_element_by_xpath('//*[@id=\"react-root\"]/section/main/div/header/section/div[1]/div[1]/div/div/div/span/span[1]/button').text == \"Follow\":\n",
    "            driver.find_element_by_xpath('//*[@id=\"react-root\"]/section/main/div/header/section/div[1]/div[1]/div/div/div/span/span[1]/button').click()\n",
    "        else:\n",
    "            print(\"Already following\")\n",
    "    elif a==2:\n",
    "        if driver.find_element_by_xpath('//*[@id=\"react-root\"]/section/main/div/header/section/div[1]/div[1]/div/div/div/span/span[1]/button').text == \"Follow\":\n",
    "            print(\"Already unfollowed\")\n",
    "        else:\n",
    "            driver.find_element_by_xpath('//*[@id=\"react-root\"]/section/main/div/header/section/div[1]/div[1]/div/div[2]/div/span/span[1]/button').click()\n",
    "            driver.find_element_by_xpath('/html/body/div[4]/div/div/div/div[3]/button[1]').click()"
   ]
  },
  {
   "cell_type": "code",
   "execution_count": 22,
   "metadata": {},
   "outputs": [
    {
     "name": "stdout",
     "output_type": "stream",
     "text": [
      "Enter 1 to follow/2 to unfollow\n",
      "1\n",
      "Already following\n"
     ]
    }
   ],
   "source": [
    "print(\"Enter 1 to follow/2 to unfollow\")\n",
    "input1=int(input())\n",
    "follow_unfollow(input1)"
   ]
  },
  {
   "cell_type": "markdown",
   "metadata": {},
   "source": [
    "# Q5 Liking the top 30 posts of the ‘dilsefoodie'. Print message if you have already liked it. Unliking the top 30 posts of the ‘dilsefoodie’. Print message if you have already unliked it"
   ]
  },
  {
   "cell_type": "code",
   "execution_count": 23,
   "metadata": {},
   "outputs": [],
   "source": [
    "q5=[]\n",
    "def like_unlike(b):\n",
    "    searchbox = WebDriverWait(driver, 10).until(EC.visibility_of_element_located((By.XPATH, \"//input[@placeholder='Search']\")))\n",
    "    searchbox.clear()\n",
    "    time.sleep(1)\n",
    "    searchbox.send_keys('dilsefoodie')\n",
    "    searchbox.send_keys(Keys.ENTER)\n",
    "    time.sleep(3)\n",
    "    driver.find_element_by_xpath('//*[@id=\"react-root\"]/section/nav/div[2]/div/div/div[2]/div[3]/div[2]/div/a[1]/div').click()\n",
    "    time.sleep(3)\n",
    "    driver.execute_script(\"window.scrollTo(0, 10000)\")\n",
    "    time.sleep(2)\n",
    "    li = driver.find_elements_by_tag_name('a')\n",
    "    time.sleep(2)\n",
    "    for i in li:\n",
    "        if '/p/' in i.get_attribute('href'):\n",
    "            q5.append(i.get_attribute('href'))\n",
    "        if len(q5) == 30:\n",
    "             break  \n",
    "    print(len(q5))\n",
    "    bn=''\n",
    "    for i in q5:\n",
    "        driver.get(i)\n",
    "        nm=driver.find_elements_by_tag_name('svg')\n",
    "        if 'ike' in nm[2].get_attribute('aria-label'):\n",
    "            bn=nm[2].get_attribute('aria-label')\n",
    "        else:\n",
    "            bn=nm[1].get_attribute('aria-label')\n",
    "        if bn == 'Like' and b == 1:\n",
    "            print(\"1\",end=\" \")\n",
    "            driver.find_element_by_xpath('//*[@id=\"react-root\"]/section/main/div/div[1]/article/div[3]/section[1]/span[1]/button').click()\n",
    "            print(\"liked\")\n",
    "        elif bn != 'Like' and b==1:\n",
    "            print(\"2\",end=\" \")\n",
    "            print(\"Already liked\")\n",
    "            time.sleep(2)\n",
    "        elif bn == 'Unlike' and b==2:\n",
    "            driver.find_element_by_xpath('//*[@id=\"react-root\"]/section/main/div/div[1]/article/div[3]/section[1]/span[1]/button').click()\n",
    "            print(\"3\",end=\" \")\n",
    "            print(\"unliked\")\n",
    "            time.sleep(1)\n",
    "        else:\n",
    "            print(\"4\",end=\" \")\n",
    "            print(\"Already unliked\")"
   ]
  },
  {
   "cell_type": "code",
   "execution_count": 24,
   "metadata": {},
   "outputs": [
    {
     "name": "stdout",
     "output_type": "stream",
     "text": [
      "Enter 1 to like/2 to unlike\n",
      "1\n",
      "30\n",
      "1 liked\n",
      "1 liked\n",
      "1 liked\n",
      "1 liked\n",
      "1 liked\n",
      "1 liked\n",
      "2 Already liked\n",
      "2 Already liked\n",
      "2 Already liked\n",
      "2 Already liked\n",
      "2 Already liked\n",
      "2 Already liked\n",
      "2 Already liked\n",
      "2 Already liked\n",
      "2 Already liked\n",
      "2 Already liked\n",
      "2 Already liked\n",
      "2 Already liked\n",
      "2 Already liked\n",
      "2 Already liked\n",
      "2 Already liked\n",
      "2 Already liked\n",
      "2 Already liked\n",
      "2 Already liked\n",
      "2 Already liked\n",
      "2 Already liked\n",
      "2 Already liked\n",
      "2 Already liked\n",
      "2 Already liked\n",
      "2 Already liked\n"
     ]
    }
   ],
   "source": [
    "print(\"Enter 1 to like/2 to unlike\")\n",
    "input2=int(input())\n",
    "like_unlike(input2)"
   ]
  },
  {
   "cell_type": "markdown",
   "metadata": {},
   "source": [
    "# Q6a Extract the usernames of the first 500 followers of ‘foodtalkindia’ and ‘sodelhi’."
   ]
  },
  {
   "cell_type": "code",
   "execution_count": 25,
   "metadata": {},
   "outputs": [],
   "source": [
    "# foodtalkindia, sodelhi"
   ]
  },
  {
   "cell_type": "code",
   "execution_count": 32,
   "metadata": {},
   "outputs": [],
   "source": [
    "def get_followers(page_name):\n",
    "    searchbox = WebDriverWait(driver, 10).until(EC.visibility_of_element_located((By.XPATH, \"//input[@placeholder='Search']\")))\n",
    "    searchbox.clear()\n",
    "    time.sleep(1)\n",
    "    searchbox.send_keys(page_name)\n",
    "    searchbox.send_keys(Keys.ENTER)\n",
    "    time.sleep(3)\n",
    "    driver.find_element_by_xpath('//*[@id=\"react-root\"]/section/nav/div[2]/div/div/div[2]/div[3]/div[2]/div/a[1]/div').click()\n",
    "    time.sleep(2)\n",
    "    driver.find_element_by_xpath('//*[@id=\"react-root\"]/section/main/div/header/section/ul/li[2]/a').click()\n",
    "    while True:\n",
    "        try:\n",
    "            names=[]\n",
    "            count=0\n",
    "            while True:\n",
    "                elements=driver.find_elements_by_xpath('//a[contains(@class, \"notranslate\")]')\n",
    "                if len(elements)<500:\n",
    "                    waiter=WebDriverWait(driver, 10).until(EC.presence_of_element_located((By.XPATH, '//ul[contains(@class, \"jSC57\")]')))\n",
    "                    driver.execute_script('arguments[0].scrollIntoView(0, 100);', driver.find_element_by_xpath('//ul[contains(@class, \"jSC57\")]'))\n",
    "                    time.sleep(0.8)\n",
    "                if count<len(elements) :\n",
    "                    i=elements[count]\n",
    "                    names.append(i.get_attribute('innerHTML'))\n",
    "                else:\n",
    "                    break\n",
    "                if len(names)>=500:\n",
    "                    break\n",
    "                count+=1\n",
    "            break\n",
    "        except StaleElementReferenceException:\n",
    "            continue\n",
    "    driver.find_element_by_xpath('/html/body/div[4]/div/div/div[1]/div/div[2]/button').click()\n",
    "    return names"
   ]
  },
  {
   "cell_type": "code",
   "execution_count": 33,
   "metadata": {},
   "outputs": [],
   "source": [
    "foodtalkindia = get_followers('foodtalkindia')\n",
    "# sodelhi = get_followers('sodelhi')"
   ]
  },
  {
   "cell_type": "code",
   "execution_count": 34,
   "metadata": {},
   "outputs": [],
   "source": [
    "sodelhi = get_followers('sodelhi')"
   ]
  },
  {
   "cell_type": "code",
   "execution_count": 35,
   "metadata": {},
   "outputs": [
    {
     "name": "stdout",
     "output_type": "stream",
     "text": [
      "['soniyasoniya4189', 'khushi._.08', 'explore_food_with_foodie', 'jangir2581', 'sandeepgodhade', 'whitedinnerset', 'nidhiskitchen07', 'siobakgentong_huksen', 'khaalipeeli_', 'manicselvi6', 'rover__foodie', 'sibi137', 'vaibhav_v.p.s', 'ihj.music', 'kuwait_foodies', 'adu.ar', 'nishantsharma105', 'the.trippie.cafe', 'piyali_pakhira_', 'vagabound6', 'rao_rohit17', 'amaan007400', 'petals.punjabi', 'awsfamily24', 'naina.chatterjee1', 'piyushsinh421', 'kushaggarwal1', 'shalu_raj_singh', 'tarundevra07', 'chefchoy_delhi', 'girlwith_foodstories', 'oasiaan', 'amreen0795', 'aalok1028', 'mohdsameermanika', 'table_lust', 'photosofseli', 'thefoodiestaaz', 'gokuishere9090', 'connecthomechefs', 'simmisays_', 'v.vishusharma', 'wanaobaidi', 'gosavi4643', 'kkumaramrendra', 'foodie_2801', 'ayur.alive', 'ram_g1', 'shivam.sain.39142', 'sajith.r', 'rikhabv', 'lakdighanapune', 'shilpakhilgarg', 'hurry_curryy', 'divya_hareesh', 'kaarvi_online_shopping', 'foods_guide', 'simergrewal', 'a__s__h__i_k_', 'artiebalode', 'mrpranesh1', 'rdx_manikant', 'raisa.sheikh1', 'autumnbykrunal', 'sushree_sushmeta', 'almondsonmymind', 'skatyal595', 'sunil.jhatwal.9', 'mykindaplate', 'gokul_m_gopalakrishnan', 'p_r_k_fan', 'ashpazi_afsaneh_bahiraei', 'nils_food_blog', 'pratima1997', 'anupam_hotelwares', '_job_alert_', 'dining_with_taniya', '____mr__chetan__', 'swetha_bhandari', 'youtuber_food.darbar', 'v_i_s_h_a_l_j_a_i_n___', 'prabaljasvendrayadav', 'sandeshssalvi', '_nandu_here_045', 'cookingminia', 'aanyadoshi', 'neerja1403gmail.com2', 'nikhilchaturvedi6666', 'khaane.mey.kya.hey', 'legends_hoteliar', 'karan_x', '_khushaaa_', 'nature_photos_greenary', 'sudeshnaaachowdhury', 'desifoodstyle143', 'thesolotraveller39', 'swadhin_puhan', '_chocolate_house_', 'arjunsxhu', 'poorvaashtekar', 'new_video_link', 'iam_d_old_phoenix', 'street_snax_', 'rahul_haryanvi_jatt', 'harshagnihotree', 'laksvish', 'salisusalisuahmed', 'lucknowite_love', 'iaditiverma', 'frolicfoodies', 'smikkelsmiley', 'alkamkhurana', 'the.eatingcouple', 'houseofsushi.co', 'cheesy_grilled_bites', 'shoprkm', 'vca.20', 'flavour_of_streets', 'rhymingvoid', 'official.nachiket', 'payals_kitchen_official', 'kamalsteel05gmail', 'chefmatteoarvonio', 'shelly4349', 'sink_the_tooth', 'payalsoni3698', 'itz_waris_brar', 'svar_5121', 'sejaltamboli._', 'eatopiaaaaa', 'amanchaudhary06082004', 'apurvakulkarnilalsare', 'pankajmandloi737', '____swapnil', 'thats_jerry_16', 'treasure_trek_tucker', 'mr.umr07', 'black_stone609', 'ramneekjhamb', 'doll_face20_00', 'devitalarirama', 'veggie_indian', 'sahil____bishnoi', 'karan_bhawnani', 'aman_kochar.ak', 'neerjaasharma', 'akeyaofficial', 'sanjanagalada', 'lipika_santra', 'doctor_instatravel', 'chaturvedimuskan5', 'vipansharma23.as', 'soheil.ravanavar', 'zamindaradhaba', 'theworkshoreca', 'm_j_vinay_kumar', 'xamra_12', 'persie1690', 'ayla.s_food_corner', 'sarkarsandy59', 'food.ogasm', 'ugalepatil', 'amit.a4054', 'thepepperpaprikablog', 'hardik318.gohil', 'al_bismillah_biriyani', 'summininghrconsult', 'vansharora95', 'jhajayantikatyayan', 'thepriyeyoga', 'crown.graphix', 'karan_joshiiiii', 'ravieshshah', 'mvmsl.mounika', 'sudik211', 'intercuisine_food', 'kerkarskitchen', 'arun_krs248', 'carlacragnolini', 'laziz_by_shaheda', 'akshataa_patill', 'bhavna.vora.714', 'mumbaifoodiciouscontest20', 'gauravrprad', 'lawrence32073', 'priyanka.mudgal.798', 'nuzhat_banu22', 'sunnyanantwar', 'yeolekarutkarsh', '_volumekitchen_', 'hari_culinary', 'shivanikanodia82', 'soulmaf9', 'delhikebabstation', 'thehappy_punter', 'shivrayfoodmall', '_binoy_siltu', 'samraj_rabari_', 'anuragnair29', 'mj.sam1994', 'itz_harshu_12', 'ramyaghulati', 'royalpalmsvilla_', 'vaishnavi.nair06', 'bhookkadd_', 'pragyasharmaofficial', 'rahulshankar019', 'lakhnotra_nilesh_5959_official', 'raj_iamrk', 'official_aniketzimare', 'sahil_sharma8336', 'smirascafe', 'tanvilaxnaik', 'vnu_vatsal15', 'loulouti2020', 'dosti002020', 'medha.agarwal_', 'riddhiriddhi620', '_chikki_09', 'priyaagarwalmua', 'wrapizzzaathefoodfactory', 'tarot_rooppreet_caur_mumbai', 'aliashik93451', 'insta_lover9466', 'spacewalkingt', 'praveen_is_king_', 'epicure_hc_', 'neerumehta28', 'gajanand_ka_deewana', 'sunkissed.dandelions', 'labelbykav', 'shiivaniyadav', 'munokumar90149', 'mr_aman_pankaj222', 'thesnacksaga', 'anthonygomes83', 'prashant.k.2020', 'savita.krishnan', 'pyaaz.tamatar', 'ajinkya3973', 'devil_honey10', 'sreekuttyou', 'ashutosh_unsubtle_me', 'shwe.nwe.5817', 'naganagendra5', 'lalsingh9806', 'vanashreeyoga', 'devashish_srivastava', 'panktikenia', 'sweetstoriesbyneha', 'soul.stirring.food', 'lance_sullivan609', 'reshma_bhilare', 'state.offlavours', 'mr.alone129', '_viszz_siya_', 'crazyfor.cooking', 'anushalekkala', 'mitiexperiences', 'loudlycloudly1', 'ramya_gururaj_', 'iam__sambath', 'amaarkitoo', 'killer_boy_sunny_111', 'mr_saiharshith_', 'cookingwithkritivity', 'ginnibuns.sector36', 'marvel_mayur', 'wrapped18', 'shreyasi.cookbook', 'cook012', 'the_chef_shubh__', 'kookshahibukhara', 'hellaaamazing', 'dhallarjun', 'shivsharma6074', 'saloniisethii', 'wwwwwwwwack', 'paplidas22200', 'hridaykakkar', 'myriambelhaj_', 'p_dot_j', 'sri_sai_oil_seeds_federation', 'shiwanisfoods', 'chaatpecharcha', 'saad.samie', 'ashmita_jain', 'hiren_r_maheshwari', 'foodie_bliss8', 'vishal_nama____', 'pri2495', 'prati.k1995', '_khaadya_padarth', 'halalboyz1', 'jnsandy12', 'poojanenwani', 'aish_dew', 'charlottejessica3', 'motimahalsrinagar', 'p.k_namkeen', 'kevon2086', 'zarinamukherjee', 'krithikaa05', 'kirtiski', 'hereisqueenrajni', 'digging_inside_food', 'royalfoodies06', 'high_on_calories_', 'sunil.valley', 'bake_truck', 'kajaldevmurari', 'kimm_hangzo', 'unwire.studio', '_brigitte_kleinschmidt_', 'fusionfoodtales', 'shreyasehgal9999', 'adulthood_is_a_joke', '_.enchanted101._', 'refectionsthejuicebar', 'earning_adda77', 'dr_clicks9', 'quotes_connecting', 'rithiktravels', 'vivekkumar5863', 'shree_hari_fastfood', 'the_chaat_chatori', 'ohhmygourmet', 'food_pics18', 'make_me_foodie', 'varuntraveller', 'maybenot_._', 'david_bhalala', 'createcultivate.13', '_asif_raza_khan_', 'hellomunchin', 'mukesharora145', 'sassysauccy', 'myphotoshootgallery', 'hey.ghaziabad', 'gauri.s.nair', 'vijay_kushwah_00', 'jas_n_kitchen', 'rasabyshahpura', 'bhavika_budhdeo', 'mahendravegan', 'khata_rahe.mera_dil', 'gul_arora', 'asad__khan______', 'jairaj_singh_tomar', 'rachnatmakdesigns', 'swaad_by_maa', 'food_delights34', 'foodbursters', 'iambirdy97', 'goodgirl.ririi', 'theserioussweetsco', 'senasafaricamp', 'neelkamal.garg', 'rohitkumar81', 'greenchickchopindia', 'jagdish_chauhan.39', 'liju3j.m', 'karankumar201', 'karanlovelysingh', 'sonumahi7364', 'foodieck', 'theteatoastco', 'sachshan3', 'renuchugh', 'sarutkar1', 'yogaplanet_nutrinaturals', 'bakemyday_mekhla', 'eksang9', 'romavanjani123', 'rashmika__.mandannna', 'rehab11452', 'gsinghgajendra123', 'indianfood7074', '_khushisingh26', 'sameer_official_142', 'qu33n_68', 'bakedbysabhya', 'abedin.15', 'chandrali.foodstories', 'hyderabad_tastyfoods', 'the_first_step_94', 'apnichaupaal', 'thinkasia.in', 'chetang2011', 'jyoti__singhh', 'mehakkshharma', 'classychicria21', 'ugursmsk21', '_bombayfoodexplorers', 'doctorzcancook', 'fillbellytales', 'madhav1711', 'drtusharsiwach', 'faltu90s', 'akhilagudelli', 'way2burger', 'prachie.v', 'astrologer_abdul_khalid_khan', 'madhvikishen', 'photography302_official', 'nandu1572', 'sacchi_baatein09', 'mishapamnany', 'bitchlasany.a', 'tasty.food05', 'nirvana_bites', 'c_nidha_123', 'sunflowerish29', 'trajat', 'its_me_smiley45', 'sureshpanwar621', 'artsy_foody', 'akshay_29876', 'sathyashashan', 'raja_sarella_', 'umaidlakepalace', 'akul_phothoshoot', 'desifoodjuction_withdiet', 'vegan_cooking_by_ro', 'xx_kamz_xx', 'ankita_2435', 'daniel95rs', 'f_o_o_d._.l_o_v_e_r', 'mr_jigs_0013', 'vineeth_vista', 'chef_ankit_singh243', 'dipanddive3', 'chandni_constructions', 'shaonisinha', 'vishakha_nathani', 'sareen_akanksha', 'thesignalpost', 'praveenn.pt', 'khandelwalarchit', 'ayushg4624', 'maryah_oliveirah', 'rtoxic_31', 'gochujang_diaries', 'melodieee_angel0201', 'ravi_sarda13', 'ameyaambulkar', 'simply_unique_1', 'ajayrathore5', 'gucchu_kolkata', 'foodstationbylalli', 'vipen.rajput.50746', 'umarricks', 'irzanaaysha', 'amanar0ra', 'rajnish6260', 'mdrashid.khan.5205', 'bakeitshakeit', 'danishgoyal0009', 'flavourybiryani20', 'chirag_dangar_ahir', 'haseena_taj17', 'lavinagupta66', 'juheemehta', 'moose9201', 'swapnilphotoghraphy', 'iamrishavh', 'ashmeet_reyat', 'vrinda2596', 'jibheche_chochle', 'the.kite.food', 'rdvproductions', 'lifesprettty4', 'saa_caterers', 'theflavourtherapy', 'anusha_75', 's_h_a_h_i_d____mohammad____', 'puresaucery.in', '____surumi___shabasi__', 'musafirimunchies', 'stilll_hungryyyy_', 'aaishabadlani', 'its_yasmin_kitchen', 'chefanjalidharamsi', 'cryptic_being', 'sahil_shaikh___7', 'muthumozhian', 'lil.suu', 'mr.tarun04', 'sadathkhaleel2020', 'mhtrending', 'blissboxbyhm', 'food_quest60', 'nitesh_29853', 'my_culinary_arts', 'apnaayush_', 'cxs_0574', 'shagunchadha_', 'worldfood_onmy_table', 'kailasaindia', 'makad192']\n",
      "==========================================================================================================\n",
      "[]\n"
     ]
    }
   ],
   "source": [
    "print(foodtalkindia)\n",
    "print(\"==========================================================================================================\")\n",
    "print(sodelhi)"
   ]
  },
  {
   "cell_type": "markdown",
   "metadata": {},
   "source": [
    "# Q6b Now print all the followers of “foodtalkindia” that you are following but those who don’t follow you."
   ]
  },
  {
   "cell_type": "code",
   "execution_count": 208,
   "metadata": {},
   "outputs": [],
   "source": [
    "def my_followers():\n",
    "    driver.find_element_by_xpath('//*[@id=\"react-root\"]/section/nav/div[2]/div/div/div[3]/div/div[5]/span').click()\n",
    "    time.sleep(2)\n",
    "    driver.find_element_by_xpath('/html/body/div[1]/section/nav/div[2]/div/div/div[3]/div/div[5]/div[2]/div/div[2]/div[2]/a[1]/div/div[2]/div/div/div/div').click()\n",
    "    time.sleep(2)\n",
    "    total_followers = driver.find_element_by_xpath('//*[@id=\"react-root\"]/section/main/div/header/section/ul/li[2]/a/span').text\n",
    "    time.sleep(2)\n",
    "    driver.find_element_by_xpath('//*[@id=\"react-root\"]/section/main/div/header/section/ul/li[2]/a').click()\n",
    "    time.sleep(1)\n",
    "    myfollowers=[]\n",
    "    while True:\n",
    "        try:\n",
    "            myfollowers=[]\n",
    "            count=0\n",
    "            while True:\n",
    "                elements=driver.find_elements_by_xpath('//a[contains(@class, \"notranslate\")]')\n",
    "                if len(elements)<int(total_followers):\n",
    "                    waiter=WebDriverWait(driver, 10).until(EC.presence_of_element_located((By.XPATH, '//ul[contains(@class, \"jSC57\")]')))\n",
    "                    driver.execute_script('arguments[0].scrollIntoView(0, 100);', driver.find_element_by_xpath('//ul[contains(@class, \"jSC57\")]'))\n",
    "                    time.sleep(0.8)\n",
    "                if count<len(elements) :\n",
    "                    i=elements[count]\n",
    "                    myfollowers.append(i.get_attribute('innerHTML'))\n",
    "                else:\n",
    "                    break\n",
    "                if len(myfollowers)==int(total_followers)+1:\n",
    "                    break\n",
    "                count+=1\n",
    "            break\n",
    "        except StaleElementReferenceException:\n",
    "            continue\n",
    "    driver.find_element_by_xpath('/html/body/div[4]/div/div/div[1]/div/div[2]/button').click()\n",
    "    return myfollowers"
   ]
  },
  {
   "cell_type": "code",
   "execution_count": 209,
   "metadata": {},
   "outputs": [],
   "source": [
    "# getting users followers\n",
    "myfollowers = my_followers()"
   ]
  },
  {
   "cell_type": "code",
   "execution_count": 218,
   "metadata": {},
   "outputs": [],
   "source": [
    "def my_followings():\n",
    "    driver.find_element_by_xpath('//*[@id=\"react-root\"]/section/nav/div[2]/div/div/div[3]/div/div[5]/span').click()\n",
    "    time.sleep(2)\n",
    "    driver.find_element_by_xpath('/html/body/div[1]/section/nav/div[2]/div/div/div[3]/div/div[5]/div[2]/div/div[2]/div[2]/a[1]/div/div[2]/div/div/div/div').click()\n",
    "    time.sleep(2)\n",
    "    total_followings = driver.find_element_by_xpath('//*[@id=\"react-root\"]/section/main/div/header/section/ul/li[3]/a/span').text\n",
    "    time.sleep(2)\n",
    "    driver.find_element_by_xpath('//*[@id=\"react-root\"]/section/main/div/header/section/ul/li[3]/a').click()\n",
    "    time.sleep(1)\n",
    "    myfollowers=[]\n",
    "    while True:\n",
    "        try:\n",
    "            myfollowings=[]\n",
    "            count=0\n",
    "            while True:\n",
    "                elements=driver.find_elements_by_xpath('//a[contains(@class, \"notranslate\")]')\n",
    "                if len(elements)<int(total_followings):\n",
    "                    waiter=WebDriverWait(driver, 10).until(EC.presence_of_element_located((By.XPATH, '//ul[contains(@class, \"jSC57\")]')))\n",
    "                    driver.execute_script('arguments[0].scrollIntoView(0, 100);', driver.find_element_by_xpath('//ul[contains(@class, \"jSC57\")]'))\n",
    "                    time.sleep(0.8)\n",
    "                if count<len(elements) :\n",
    "                    i=elements[count]\n",
    "                    myfollowings.append(i.get_attribute('innerHTML'))\n",
    "                else:\n",
    "                    break\n",
    "                if len(myfollowings)==int(total_followings)+1:\n",
    "                    break\n",
    "                count+=1\n",
    "            break\n",
    "        except StaleElementReferenceException:\n",
    "            continue\n",
    "    driver.find_element_by_xpath('/html/body/div[4]/div/div/div[1]/div/div[2]/button').click()\n",
    "    return myfollowings"
   ]
  },
  {
   "cell_type": "code",
   "execution_count": 219,
   "metadata": {},
   "outputs": [],
   "source": [
    "# getting users following\n",
    "myfollowing = my_followings()"
   ]
  },
  {
   "cell_type": "code",
   "execution_count": 36,
   "metadata": {},
   "outputs": [],
   "source": [
    "# user following but no follow back\n",
    "followingr=set(myfollowing)\n",
    "myfollowersr=set(myfollowers)\n",
    "q6b = (followingr.difference(myfollowersr))"
   ]
  },
  {
   "cell_type": "code",
   "execution_count": 231,
   "metadata": {},
   "outputs": [],
   "source": [
    "def following_page_mutual():\n",
    "    searchbox = WebDriverWait(driver, 10).until(EC.visibility_of_element_located((By.XPATH, \"//input[@placeholder='Search']\")))\n",
    "    searchbox.clear()\n",
    "    time.sleep(1)\n",
    "    searchbox.send_keys(\"foodtalkindia\")\n",
    "    searchbox.send_keys(Keys.ENTER)\n",
    "    time.sleep(3)\n",
    "    driver.find_element_by_xpath('//*[@id=\"react-root\"]/section/nav/div[2]/div/div/div[2]/div[3]/div[2]/div/a[1]/div').click()\n",
    "    time.sleep(2)\n",
    "    total_following=driver.find_element_by_xpath('//*[@id=\"react-root\"]/section/main/div/header/section/ul/li[2]/a/span').get_attribute('title')\n",
    "    t=total_following.split(',')\n",
    "    total_followings=0\n",
    "    for i in range(len(t)):\n",
    "        total_followings = total_followings*(10**(3*(len(t)-i))) + int(t[i])\n",
    "    total_following = total_followings\n",
    "    driver.find_element_by_xpath('//*[@id=\"react-root\"]/section/main/div/header/section/ul/li[2]/a').click()\n",
    "    while True:\n",
    "        try:\n",
    "            following12=[]\n",
    "            count=0\n",
    "            while True:\n",
    "                elements=driver.find_elements_by_xpath('//a[contains(@class, \"notranslate\")]')\n",
    "                if len(elements)<total_following:\n",
    "                    waiter=WebDriverWait(driver, 10).until(EC.presence_of_element_located((By.XPATH, '//ul[contains(@class, \"jSC57\")]')))\n",
    "                    driver.execute_script('arguments[0].scrollIntoView(0, 100);', driver.find_element_by_xpath('//ul[contains(@class, \"jSC57\")]'))\n",
    "                    time.sleep(0.8)\n",
    "                if count<len(elements) :\n",
    "                    i=elements[count]\n",
    "                    following12.append(i.get_attribute('innerHTML'))\n",
    "                else:\n",
    "                    break\n",
    "                if len(following12)==total_following+2:\n",
    "                    break\n",
    "                count+=1\n",
    "            break\n",
    "        except StaleElementReferenceException:\n",
    "            continue\n",
    "    return following12"
   ]
  },
  {
   "cell_type": "code",
   "execution_count": null,
   "metadata": {},
   "outputs": [],
   "source": [
    "# all follower of \"Foodtalkindia\"\n",
    "foodtalkindia12 = following_page_mutual()"
   ]
  },
  {
   "cell_type": "code",
   "execution_count": null,
   "metadata": {},
   "outputs": [],
   "source": [
    "# friends following page but not following me\n",
    "foodtalkindia=set(foodtalkindia12)\n",
    "followers_of_foodtalkindia_that_i_am_following= q6b.intersection(foodtalkindia12)\n",
    "print('Given below is a set of all the followers of “foodtalkindia” that I am following but those who don’t follow me.')\n",
    "if len(followers_of_foodtalkindia_that_i_am_following-myfollowers)==0:\n",
    "    print(\"--->No such followers\")\n",
    "for i in followers_of_foodtalkindia_that_i_am_following-myfollowers:\n",
    "    print(i)"
   ]
  },
  {
   "cell_type": "markdown",
   "metadata": {},
   "source": [
    "## Q7 Check the story of ‘coding.ninjas’. Consider the following Scenarios and print error messages accordingly -\n",
    "## If You have already seen the story.\n",
    "## Or The user has no story.\n",
    "## Or View the story if not yet seen."
   ]
  },
  {
   "cell_type": "code",
   "execution_count": 37,
   "metadata": {},
   "outputs": [],
   "source": [
    "def see_story():\n",
    "    searchbox = WebDriverWait(driver, 10).until(EC.visibility_of_element_located((By.XPATH, \"//input[@placeholder='Search']\")))\n",
    "    searchbox.clear()\n",
    "    time.sleep(1)\n",
    "    searchbox.send_keys(\"coding.ninjas\")\n",
    "    searchbox.send_keys(Keys.ENTER)\n",
    "    time.sleep(3)\n",
    "    driver.find_element_by_xpath('//*[@id=\"react-root\"]/section/nav/div[2]/div/div/div[2]/div[3]/div[2]/div/a[1]/div').click()\n",
    "    time.sleep(2)\n",
    "    # print(int(driver.find_element_by_xpath('//div[contains(@class, \"h5uC0\")]/canvas').get_attribute('height')))\n",
    "    try:\n",
    "        if int(driver.find_element_by_xpath('//div[contains(@class, \"h5uC0\")]/canvas').get_attribute('height'))==210:\n",
    "            print('You have not seen the story yet! The story will be shown to you now. check out the driver window')\n",
    "            driver.find_element_by_xpath('//div[contains(@class, \"h5uC0\")]').click()\n",
    "        elif int(driver.find_element_by_xpath('//div[contains(@class, \"h5uC0\")]/canvas').get_attribute('height'))==208:\n",
    "            print('You have already seen the story!')\n",
    "    except NoSuchElementException:\n",
    "        print('The user has no story!')"
   ]
  },
  {
   "cell_type": "code",
   "execution_count": 38,
   "metadata": {},
   "outputs": [
    {
     "name": "stdout",
     "output_type": "stream",
     "text": [
      "You have not seen the story yet! The story will be shown to you now. check out the driver window\n"
     ]
    }
   ],
   "source": [
    "see_story()"
   ]
  }
 ],
 "metadata": {
  "kernelspec": {
   "display_name": "Python 3",
   "language": "python",
   "name": "python3"
  },
  "language_info": {
   "codemirror_mode": {
    "name": "ipython",
    "version": 3
   },
   "file_extension": ".py",
   "mimetype": "text/x-python",
   "name": "python",
   "nbconvert_exporter": "python",
   "pygments_lexer": "ipython3",
   "version": "3.8.3"
  }
 },
 "nbformat": 4,
 "nbformat_minor": 4
}
