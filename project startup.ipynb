{
 "cells": [
  {
   "cell_type": "markdown",
   "metadata": {},
   "source": [
    "# Following case study has been done on data of \"funding information of the Indian startups from January 2015 to August 2017.\"(CSV file)"
   ]
  },
  {
   "cell_type": "code",
   "execution_count": 1,
   "metadata": {},
   "outputs": [
    {
     "name": "stdout",
     "output_type": "stream",
     "text": [
      "Bangalore\n"
     ]
    },
    {
     "data": {
      "image/png": "[encoded data removed]",
      "text/plain": [
       "<Figure size 432x288 with 1 Axes>"
      ]
     },
     "metadata": {
      "needs_background": "light"
     },
     "output_type": "display_data"
    }
   ],
   "source": [
    "# Q1 find the location where startups has received funding maximum number of times. Plot the bar graph between location \n",
    "# and number of funding.locations - Bangalore, Mumbai, and NCR.(NCR include Gurgaon, Noida and New Delhi.)\n",
    "import pandas as pd\n",
    "import numpy as np\n",
    "import matplotlib.pyplot as plt\n",
    "df=pd.read_csv('startup_funding.csv')\n",
    "df['CityLocation'].dropna(inplace=True)\n",
    "def separateCity(city):\n",
    "    return city.split('/')[0].strip()\n",
    "df['CityLocation']=df['CityLocation'].apply(separateCity)\n",
    "df['CityLocation'].replace('bangalore','Bangalore',inplace=True)\n",
    "df['CityLocation'].replace('Delhi',\"New Delhi\",inplace=True)\n",
    "cl=['Bangalore','Mumbai','New Delhi','Gurgaon','Noida']\n",
    "# a=df['CityLocation'].count()\n",
    "a=df['CityLocation'].value_counts()\n",
    "rc=dict(zip(a.index,a.values))\n",
    "x=[]\n",
    "for i in cl:\n",
    "    x.append(rc[i])\n",
    "print(cl[x.index(max(x))])\n",
    "plt.bar(cl,x)\n",
    "plt.show()"
   ]
  },
  {
   "cell_type": "code",
   "execution_count": 2,
   "metadata": {},
   "outputs": [
    {
     "name": "stdout",
     "output_type": "stream",
     "text": [
      "Sequoia Capital\n",
      "Accel Partners\n",
      "Kalaari Capital\n",
      "SAIF Partners\n",
      "Indian Angel Network\n"
     ]
    }
   ],
   "source": [
    "# Q2 Find the top 5 investors who have invested maximum number of times (consider repeat investments in one company also). \n",
    "# In a startup, multiple investors might have invested. So consider each investor for that startup.\n",
    "import pandas as pd\n",
    "import numpy as np\n",
    "import matplotlib.pyplot as plt\n",
    "df=pd.read_csv('startup_funding.csv')\n",
    "df['InvestorsName'].dropna(inplace=True)\n",
    "def cd(array):\n",
    "    d={}\n",
    "    for i in array:\n",
    "        if \"Undisclosed\" in i:\n",
    "            continue\n",
    "        if ',' not in i:\n",
    "            d[i]=d.get(i,0)+1\n",
    "        else:\n",
    "            s=i.strip().split(',')\n",
    "            for j in s:\n",
    "                d[j.strip()]=d.get(j.strip(),0)+1\n",
    "    return d\n",
    "d=cd(df['InvestorsName'])\n",
    "x=pd.DataFrame(list(d.values()),list(d.keys()))\n",
    "x=x.sort_values(by=[0],ascending=False)\n",
    "for i in range(5):\n",
    "    print(x.index[i])"
   ]
  },
  {
   "cell_type": "code",
   "execution_count": 3,
   "metadata": {},
   "outputs": [
    {
     "name": "stdout",
     "output_type": "stream",
     "text": [
      "Sequoia Capital\n",
      "Accel Partners\n",
      "Kalaari Capital\n",
      "Indian Angel Network\n",
      "Blume Ventures\n"
     ]
    }
   ],
   "source": [
    "# Q3\n",
    "df=pd.read_csv('startup_funding.csv')\n",
    "df.dropna(subset=['InvestorsName'],inplace=True)\n",
    "df.reset_index(drop=True, inplace=True)\n",
    "df['StartupName'].replace('Olacabs','Ola',inplace=True)\n",
    "df['StartupName'].replace('Ola Cabs','Ola',inplace=True)\n",
    "df['StartupName'].replace('Flipkart.com','Flipkart',inplace=True)\n",
    "df['StartupName'].replace('Paytm Marketplace','Paytm',inplace=True)\n",
    "df['StartupName'].replace('Oyo Rooms','Oyo',inplace=True)\n",
    "df['StartupName'].replace('Oyorooms','Oyo',inplace=True)\n",
    "df['StartupName'].replace('OyoRooms','Oyo',inplace=True)\n",
    "df['StartupName'].replace('OYO Rooms','Oyo',inplace=True)\n",
    "def cd(array,n):\n",
    "    d={}\n",
    "    k=0\n",
    "    s=\"\"\n",
    "    for i in array:\n",
    "        if \"Undisclosed \" in i:\n",
    "            k+=1\n",
    "            continue\n",
    "        if ',' not in i and i!=\"\":\n",
    "            if i not in d:\n",
    "                d[i.strip()]=[n[k]]\n",
    "            elif n[k] not in d[i]:\n",
    "                d[i.strip()]+=[n[k]]\n",
    "        else:\n",
    "            s=i.split(',')\n",
    "            for j in s:\n",
    "                if j==\"\":\n",
    "                    continue\n",
    "                j=j.strip()\n",
    "                if j not in d:\n",
    "                    d[j]=[n[k]]\n",
    "                elif n[k] not in d[j]:\n",
    "                    d[j]+=[n[k]]\n",
    "        k+=1\n",
    "    return d\n",
    "d=cd(df['InvestorsName'],df['StartupName'])\n",
    "d1={}\n",
    "for k,v in d.items():\n",
    "    d1[k]=len(d[k])\n",
    "c=0\n",
    "for k,v in sorted(d1.items(),reverse = True,key=lambda kv:(kv[1], kv[0])):\n",
    "    print(k)\n",
    "    c+=1\n",
    "    if c>4:\n",
    "        break"
   ]
  },
  {
   "cell_type": "code",
   "execution_count": 4,
   "metadata": {},
   "outputs": [
    {
     "name": "stdout",
     "output_type": "stream",
     "text": [
      "Indian Angel Network\n",
      "Rajan Anandan\n",
      "LetsVenture\n",
      "Anupam Mittal\n",
      "Kunal Shah\n"
     ]
    }
   ],
   "source": [
    "# Q 4\n",
    "# Find the top 5 investors who have invested in a different number of startups\n",
    "# and their investment type is Crowdfunding or Seed Funding.\n",
    "import pandas as pd\n",
    "import matplotlib.pyplot as plt\n",
    "import numpy as np\n",
    "data=pd.read_csv('startup_funding.csv')\n",
    "df=data.copy()\n",
    "df['StartupName'].replace('Olacabs','Ola',inplace=True)\n",
    "df['StartupName'].replace('Ola Cabs','Ola',inplace=True)\n",
    "df['StartupName'].replace('Flipkart.com','Flipkart',inplace=True)\n",
    "df['StartupName'].replace('Paytm Marketplace','Paytm',inplace=True)\n",
    "df['StartupName'].replace('Oyo Rooms','Oyo',inplace=True)\n",
    "df['StartupName'].replace('Oyorooms','Oyo',inplace=True)\n",
    "df['StartupName'].replace('OyoRooms','Oyo',inplace=True)\n",
    "df['StartupName'].replace('OYO Rooms','Oyo',inplace=True)\n",
    "df['InvestmentType'].replace('SeedFunding','Seed Funding',inplace=True)\n",
    "df['InvestmentType'].replace('PrivateEquity','Private Equity',inplace=True)\n",
    "df['InvestmentType'].replace('Crowd funding','Crowd Funding',inplace=True)\n",
    "df.dropna(subset=['InvestorsName'],inplace=True)\n",
    "df.reset_index(drop=True, inplace=True)\n",
    "def cd(array,n,m):\n",
    "    d={}\n",
    "    k=0\n",
    "    s=\"\"\n",
    "    for i in array:\n",
    "        if m[k]==\"Private Equity\" or m[k]==\"Debt Funding\":\n",
    "            k+=1\n",
    "            continue\n",
    "        if \"Undisclosed \" in i:\n",
    "            k+=1\n",
    "            continue\n",
    "        if ',' not in i and i!=\"\":\n",
    "            if i not in d:\n",
    "                d[i.strip()]=[n[k]]\n",
    "            elif n[k] not in d[i]:\n",
    "                d[i.strip()]+=[n[k]]\n",
    "        else:\n",
    "            s=i.split(',')\n",
    "            for j in s:\n",
    "                if j==\"\":\n",
    "                    continue\n",
    "                j=j.strip()\n",
    "                if j not in d:\n",
    "                    d[j]=[n[k]]\n",
    "                elif n[k] not in d[j]:\n",
    "                    d[j]+=[n[k]]\n",
    "        k+=1\n",
    "    return d\n",
    "d=cd(df['InvestorsName'],df['StartupName'],df['InvestmentType'])\n",
    "d1={}\n",
    "for k,v in d.items():\n",
    "    d1[k]=len(d[k])\n",
    "c=0\n",
    "for k,v in sorted(d1.items(),reverse = True,key=lambda kv:(kv[1], kv[0])):\n",
    "    print(k)\n",
    "    c+=1\n",
    "    if c>4:\n",
    "        break"
   ]
  },
  {
   "cell_type": "code",
   "execution_count": 5,
   "metadata": {},
   "outputs": [
    {
     "name": "stdout",
     "output_type": "stream",
     "text": [
      "Accel Partners\n",
      "Sequoia Capital\n",
      "Kalaari Capital\n",
      "Blume Ventures\n",
      "SAIF Partners\n"
     ]
    }
   ],
   "source": [
    "# Q5\n",
    "data=pd.read_csv('startup_funding.csv')\n",
    "df=data.copy()\n",
    "df['StartupName'].replace('Olacabs','Ola',inplace=True)\n",
    "df['StartupName'].replace('Ola Cabs','Ola',inplace=True)\n",
    "df['StartupName'].replace('Flipkart.com','Flipkart',inplace=True)\n",
    "df['StartupName'].replace('Paytm Marketplace','Paytm',inplace=True)\n",
    "df['StartupName'].replace('Oyo Rooms','Oyo',inplace=True)\n",
    "df['StartupName'].replace('Oyorooms','Oyo',inplace=True)\n",
    "df['StartupName'].replace('OyoRooms','Oyo',inplace=True)\n",
    "df['StartupName'].replace('OYO Rooms','Oyo',inplace=True)\n",
    "df['InvestmentType'].replace('SeedFunding','Seed Funding',inplace=True)\n",
    "df['InvestmentType'].replace('PrivateEquity','Private Equity',inplace=True)\n",
    "df['InvestmentType'].replace('Crowd funding','Crowd Funding',inplace=True)\n",
    "df.dropna(subset=['InvestorsName'],inplace=True)\n",
    "df.reset_index(drop=True, inplace=True)\n",
    "def cd(array,n,m):\n",
    "    d={}\n",
    "    k=0\n",
    "    s=\"\"\n",
    "    for i in array:\n",
    "        if m[k]==\"Private Equity\" and \"Undisclosed \" not in i:\n",
    "            if ',' not in i:\n",
    "                if i not in d:\n",
    "                    d[i.strip()]=[n[k]]\n",
    "                elif n[k] not in d[i]:\n",
    "                    d[i.strip()]+=[n[k]]\n",
    "            else:\n",
    "                s=i.split(',')\n",
    "            for j in s:\n",
    "                if j==\"\":\n",
    "                    continue\n",
    "                j=j.strip()\n",
    "                if j not in d:\n",
    "                    d[j]=[n[k]]\n",
    "                elif n[k] not in d[j]:\n",
    "                    d[j]+=[n[k]]\n",
    "        k+=1\n",
    "    return d\n",
    "d=cd(df['InvestorsName'],df['StartupName'],df['InvestmentType'])\n",
    "d1={}\n",
    "for k,v in d.items():\n",
    "    d1[k]=len(d[k])\n",
    "c=0\n",
    "for k,v in sorted(d1.items(),reverse = True,key=lambda kv:(kv[1], kv[0])):\n",
    "    print(k)\n",
    "    c+=1\n",
    "    if c>4:\n",
    "        break"
   ]
  }
 ],
 "metadata": {
  "kernelspec": {
   "display_name": "Python 3",
   "language": "python",
   "name": "python3"
  },
  "language_info": {
   "codemirror_mode": {
    "name": "ipython",
    "version": 3
   },
   "file_extension": ".py",
   "mimetype": "text/x-python",
   "name": "python",
   "nbconvert_exporter": "python",
   "pygments_lexer": "ipython3",
   "version": "3.8.3"
  }
 },
 "nbformat": 4,
 "nbformat_minor": 4
}
