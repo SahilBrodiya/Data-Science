{
 "cells": [
  {
   "cell_type": "markdown",
   "metadata": {},
   "source": [
    "# Don't forget to input your username and password. Each code is tested. If there is some problem, rerun the code with previous conditions. It will work fine. Thank you. Also change driver's path"
   ]
  },
  {
   "cell_type": "code",
   "execution_count": 123,
   "metadata": {},
   "outputs": [
    {
     "data": {
      "text/plain": [
       "13"
      ]
     },
     "execution_count": 123,
     "metadata": {},
     "output_type": "execute_result"
    }
   ],
   "source": [
    "conda install selenium"
   ]
  },
  {
   "cell_type": "code",
   "execution_count": 191,
   "metadata": {},
   "outputs": [],
   "source": [
    "from selenium import webdriver\n",
    "from selenium.webdriver.common.keys import Keys\n",
    "from selenium.common.exceptions import NoSuchElementException\n",
    "from selenium.common.exceptions import StaleElementReferenceException\n",
    "from selenium.common.exceptions import TimeoutException\n",
    "from selenium.webdriver.chrome.options import Options\n",
    "from selenium.webdriver.support.ui import WebDriverWait\n",
    "from selenium.webdriver.support import expected_conditions as EC\n",
    "from selenium.webdriver.common.by import By\n",
    "from selenium.webdriver.support.select import Select\n",
    "from datetime import date\n",
    "import time\n",
    "import matplotlib.pyplot as plt\n",
    "import csv"
   ]
  },
  {
   "cell_type": "code",
   "execution_count": 192,
   "metadata": {},
   "outputs": [],
   "source": [
    "import numpy as np\n",
    "# import pandas as pd"
   ]
  },
  {
   "cell_type": "code",
   "execution_count": 193,
   "metadata": {},
   "outputs": [],
   "source": [
    "username = \"Sample username\"\n",
    "password = \"Sample password\""
   ]
  },
  {
   "cell_type": "code",
   "execution_count": 212,
   "metadata": {},
   "outputs": [],
   "source": [
    "driver = webdriver.Chrome(executable_path = 'chromedriver')\n",
    "driver.maximize_window()"
   ]
  },
  {
   "cell_type": "code",
   "execution_count": 195,
   "metadata": {},
   "outputs": [],
   "source": [
    "def login():\n",
    "#     driver = webdriver.Chrome(executable_path = 'chromedriver')\n",
    "    driver.get('https://www.instagram.com/')\n",
    "    time.sleep(4)\n",
    "    driver.find_element_by_xpath('//*[@id=\"loginForm\"]/div/div[1]/div/label/input').send_keys(username)\n",
    "    driver.find_element_by_xpath('//*[@id=\"loginForm\"]/div/div[2]/div/label/input').send_keys(password)\n",
    "    driver.find_element_by_xpath('//*[@id=\"loginForm\"]/div/div[3]').click()"
   ]
  },
  {
   "cell_type": "code",
   "execution_count": 213,
   "metadata": {},
   "outputs": [],
   "source": [
    "login()"
   ]
  },
  {
   "cell_type": "markdown",
   "metadata": {},
   "source": [
    "# Q1.1 From the list of instagram handles obtained when we searched ‘food’ . Open the first 10 handles and find the top 5 which have the highest number of followers"
   ]
  },
  {
   "cell_type": "code",
   "execution_count": 218,
   "metadata": {},
   "outputs": [],
   "source": [
    "def insta_handles(name):\n",
    "    j=0\n",
    "    first_10 = []\n",
    "    search = driver.find_element_by_class_name('XTCLo')\n",
    "    search.clear()\n",
    "    search.send_keys(name)\n",
    "    for i in driver.find_elements_by_xpath('//a[@class=\"yCE8d  \"]/div/div[2]/div/span'):\n",
    "#         print(i.get_attribute('innerHTML'))\n",
    "        first_10.append(i.get_attribute('innerHTML'))\n",
    "        j+=1\n",
    "        if j >9:\n",
    "            break\n",
    "    time.sleep(3)\n",
    "    d={}\n",
    "    for h in first_10:\n",
    "        driver.get('https://www.instagram.com/' + h + '/')\n",
    "        total_following=driver.find_element_by_xpath('//*[@id=\"react-root\"]/section/main/div/header/section/ul/li[2]/a/span').get_attribute('title')\n",
    "        time.sleep(2)\n",
    "        t=total_following.split(',')\n",
    "        total_followings=0\n",
    "        for i in range(len(t)):\n",
    "            total_followings = total_followings*(10**(3*(len(t)-i))) + int(t[i])\n",
    "        total_following = total_followings\n",
    "        d[h] = total_following\n",
    "    top_5 = sorted(d, key = d.get, reverse = True)[0:5]\n",
    "    return top_5"
   ]
  },
  {
   "cell_type": "code",
   "execution_count": 221,
   "metadata": {},
   "outputs": [],
   "source": [
    "# Rerun if no output is displayed. It will work\n",
    "first_5 = insta_handles('food')"
   ]
  },
  {
   "cell_type": "code",
   "execution_count": 222,
   "metadata": {},
   "outputs": [
    {
     "data": {
      "text/plain": [
       "['yourfoodlab',\n",
       " 'dilsefoodie',\n",
       " 'foodtalkindia',\n",
       " 'food_lunatic',\n",
       " 'foodyypreneur']"
      ]
     },
     "execution_count": 222,
     "metadata": {},
     "output_type": "execute_result"
    }
   ],
   "source": [
    "first_5"
   ]
  },
  {
   "cell_type": "markdown",
   "metadata": {},
   "source": [
    "# Q1.2 Now Find the number of posts these handles have done in the previous 3 days."
   ]
  },
  {
   "cell_type": "code",
   "execution_count": 223,
   "metadata": {},
   "outputs": [],
   "source": [
    "def posts(handles):\n",
    "    today = date.today()\n",
    "    date1 = today.strftime(\"%d/%m/%Y\").split('/')\n",
    "    day = int(date1[0])\n",
    "    month = int(date1[1])\n",
    "    year = int(date1[2])\n",
    "    d = {}\n",
    "    for page in handles:\n",
    "        driver.get('https://www.instagram.com/' + page + '/')\n",
    "        time.sleep(3)\n",
    "        num_of_posts = 0\n",
    "        for z in driver.find_elements_by_xpath('//div[contains(@class, \"Nnq7C\")]/div/a/div[1]'):\n",
    "            z.click()\n",
    "            time.sleep(3)\n",
    "            times = WebDriverWait(driver, 10).until(EC.presence_of_element_located((By.XPATH,\"//body//time[@class='_1o9PC Nzb55']\")))\n",
    "            items1 = times.get_attribute(\"datetime\").split('T')[0].strip().split('-')\n",
    "            year1 = int(items1[0].strip())\n",
    "            month1 = int(items1[1])\n",
    "            day1 = int(items1[2].strip())\n",
    "            driver.find_element_by_xpath('/html/body/div[4]/div[3]/button').click()\n",
    "            if year1 == year and month1 == month and day1 >= day-3 :\n",
    "                num_of_posts += 1\n",
    "            else:\n",
    "                break\n",
    "        d[page] = num_of_posts\n",
    "    return d\n",
    "        "
   ]
  },
  {
   "cell_type": "code",
   "execution_count": 224,
   "metadata": {},
   "outputs": [],
   "source": [
    "d = posts(first_5)"
   ]
  },
  {
   "cell_type": "code",
   "execution_count": 225,
   "metadata": {},
   "outputs": [
    {
     "data": {
      "text/plain": [
       "{'yourfoodlab': 1,\n",
       " 'dilsefoodie': 5,\n",
       " 'foodtalkindia': 2,\n",
       " 'foodyypreneur': 7,\n",
       " 'food': 3}"
      ]
     },
     "execution_count": 225,
     "metadata": {},
     "output_type": "execute_result"
    }
   ],
   "source": [
    "d"
   ]
  },
  {
   "cell_type": "markdown",
   "metadata": {},
   "source": [
    "# Q1.3 Depict this information using a suitable graph."
   ]
  },
  {
   "cell_type": "code",
   "execution_count": 226,
   "metadata": {},
   "outputs": [],
   "source": [
    "def posts_graph(d):\n",
    "    pages = []\n",
    "    posts = []\n",
    "    for i in d:\n",
    "        pages.append(i)\n",
    "        posts.append(d[i])\n",
    "    plt.bar(pages,posts,width = 0.4, color = \"green\", edgecolor = \"yellow\")\n",
    "    plt.xticks(rotation = 90)\n",
    "    plt.ylabel(\"Number of Posts\",color = \"red\")\n",
    "    plt.xlabel(\"Name of Handles\",color = \"red\")\n",
    "    plt.show()"
   ]
  },
  {
   "cell_type": "code",
   "execution_count": 227,
   "metadata": {},
   "outputs": [
    {
     "data": {
      "image/png": "[encoded data removed]",
      "text/plain": [
       "<Figure size 432x288 with 1 Axes>"
      ]
     },
     "metadata": {
      "needs_background": "light"
     },
     "output_type": "display_data"
    }
   ],
   "source": [
    "posts_graph(d)"
   ]
  },
  {
   "cell_type": "markdown",
   "metadata": {},
   "source": [
    "# Q2.1 Open the 5 handles obtained in the last question, and scrape the content of the first 10 posts of each handle."
   ]
  },
  {
   "cell_type": "code",
   "execution_count": 228,
   "metadata": {},
   "outputs": [],
   "source": [
    "def posts(handles):\n",
    "    content=[]\n",
    "    hashtags=[]\n",
    "    for page in handles:\n",
    "        driver.get('https://www.instagram.com/' + page + '/')\n",
    "        time.sleep(3)\n",
    "        count = 0\n",
    "#         for z in driver.find_elements_by_xpath('//div[contains(@class, \"Nnq7C\")]/div/a/div[1]'):\n",
    "#             z.click()\n",
    "        for i in driver.find_elements_by_xpath('//div[@class=\"_9AhH0\"]'):\n",
    "            i.click()\n",
    "            WebDriverWait(driver, 10).until(EC.presence_of_element_located((By.XPATH, '//div[contains(@class, \"C4VMK\")]')))\n",
    "            content.append(driver.find_element_by_xpath('//div[contains(@class, \"C4VMK\")]/span').get_attribute('textContent'))\n",
    "            for hashes in driver.find_elements_by_xpath('//div[contains(@class, \"C4VMK\")]/span/a'):\n",
    "                hashtags.append(hashes.get_attribute('innerHTML'))\n",
    "            count+=1\n",
    "            if count>=10:\n",
    "                driver.find_element_by_xpath('/html/body/div[4]/div[3]/button').click()\n",
    "                break\n",
    "            driver.find_element_by_xpath('/html/body/div[4]/div[3]/button').click()\n",
    "            time.sleep(1)\n",
    "    return content,hashtags"
   ]
  },
  {
   "cell_type": "code",
   "execution_count": 108,
   "metadata": {},
   "outputs": [
    {
     "data": {
      "text/plain": [
       "50"
      ]
     },
     "execution_count": 108,
     "metadata": {},
     "output_type": "execute_result"
    }
   ],
   "source": [
    "# len(content)"
   ]
  },
  {
   "cell_type": "code",
   "execution_count": 229,
   "metadata": {},
   "outputs": [],
   "source": [
    "content,hashtags = posts(first_5)"
   ]
  },
  {
   "cell_type": "code",
   "execution_count": 230,
   "metadata": {},
   "outputs": [
    {
     "name": "stdout",
     "output_type": "stream",
     "text": [
      "Soya Chaap Makhani by Chef @sanjyotkeer...Tandoori chaap in Makhani gravy just is a delicious, perfect dish. It’s a great option for peeps who are vegetarian but want to try something really close to a butter chicken (Yes I love butter chicken and I would never compare it to anything, but yes this one just tasted amazing, NO CONTROVORSIES PLEASE😋) Off lately I have cooked a few versions of the soya chaap and this one is surely one of the top recipes. You also will learn how to cook some tandoori chaap, but for that I will do a detailed recipe soon.Until then cook some chaap Makhani and pair it with some crispy naan and enjoy this delicious recipe!....#recipe #foodie #comfortfood #streetfood #indiancuisine #sanjyotkeer #soyachaap\n",
      "===========================================================================\n",
      "New recipe is out now!! Soya Chaap Makhani Recipe is out now on Facebook and YouTube!!! Tandoori chaap in Makhani gravy just is a delicious, perfect dish. It’s a great option for peeps who are vegetarian but want to try something really close to a butter chicken (Yes I love butter chicken and I would never compare it to anything, but yes this one just tasted amazing, NO CONTROVORSIES PLEASE😋) Off lately I have cooked a few versions of the soya chaap and this one is surely one of the top recipes. You also will learn how to cook some tandoori chaap, but for that I will do a detailed recipe soon.Until then cook some chaap Makhani and pair it with some crispy naan and enjoy this delicious recipe!....#recipes #food #foodporn #soyachaap #deliciousfood #mumbaifoodie #mumbaistreetfood #cooking #foodiesofinstagram #streetfood\n",
      "===========================================================================\n",
      "Oil Free Chole by Chef @sanjyotkeer ....#recipe #foodie #indiancuisine #streetfood #indianfood #sanjyotkeer #yourfoodlab\n",
      "===========================================================================\n",
      "Pineapple Sheera by Chef @sanjyotkeer....I absolutely loved pineapple sheera and as soon as I hear pineapple sheera, it’s the Ramashray sheera what comes to my mind. Early 6 am breakfast at Ramashray, Matunga is what I have missed the most in this lockdown. The steaming hot idlis with podi and the sheera is so delicious. This is my take on it, I have caramalised the pineapple for that deep flavor which is not the traditional way to do it, so don’t pull out your guns on me for that. It is just my representation of the flavors I personally like and I felt that they could be bought out in this recipe. Do try the recipe it turns out to be amazing! Cheers!....#recipes #foodiesofinstagram #streetfood #foodphotography #foodporn #sheera #sanjyotkeer\n",
      "===========================================================================\n",
      "Pineapple sheera recipe is out now on Facebook & YouTube!!! I absolutely loved pineapple sheera and as soon as I hear pineapple sheera, it’s the Ramashray sheera what comes to my mind. Early 6 am breakfast at Ramashray, Matunga is what I have missed the most in this lockdown. The steaming hot idlis with podi and the sheera is so delicious. This is my take on it, I have caramalised the pineapple for that deep flavor which is not the traditional way to do it, so don’t pull out your guns on me for that. It is just my representation of the flavors I personally like and I felt that they could be bought out in this recipe. Do try the recipe it turns out to be amazing! Cheers!....#recipeoftheday #sheera #yummy😋😋 #sweetdish #breakfastideas #sweetlover #pineapple #foodie #instadaily #mumbaistreetfood #streetfood #foodiesofinstagram\n",
      "===========================================================================\n",
      "Home Style Punjabi Mutton Masala by Chef @sanjyotkeer...I have been waiting to cook this on YFL! Finally my dad’s incredible home style mutton recipe is all yours! I have shared this recipe with you guys because I just love this preparation. The subtle things that he has taught me, he does not add whole spices, the flavor & aroma of the fresh garam masala, the fresh ginger garlic chilli coarsely ground paste, the timings of the addition of the ingredients and a lot of patience and all of that father love that he puts into this recipe makes it really special. You can prepare mutton masala or tariwala mutton by just adjusting the quantity of the last added water. That’s what we do when everybody in the family is in a different mood for having masala or the tari and both taste incredible! He always used to cook this when me and my sister where kids and I only used to eat the mutton prepared by him. I then specially learned it from him and i cook it now in the family usually but how much ever I try the one he prepares is unbeatable. This is a must try! Best enjoyed over a Sunday lunch-brunch and a good afternoon sleep! Cheers! ...#recipe #foodie #indiancuisine #sanjyotkeer #comfortfood P.s. my dad is an amazing cook and a lot of me is him! Thank you dad I love you the most! ❤️ (Please don’t get emotional 🤗🤗) and also mom & dad look so cute together. That’s dad cooking mutton some 30 odd years back. Following his footsteps always and mom don’t be angry, you know I have used a lot of your recipes, next time i will do a recipe dedicated to you soon! ❤️❤️\n",
      "===========================================================================\n",
      "Home Style Punjabi Mutton Masala Recipe is out now on Facebook and YouTube, check it out! I have been waiting to cook this on YFL! Finally my dad’s incredible home style mutton recipe is all yours! I have shared this recipe with you guys because I just love this preparation. The subtle things that he has taught me, he does not add whole spices, the flavor & aroma of the fresh garam masala, the fresh ginger garlic chilli coarsely ground paste, the timings of the addition of the ingredients and a lot of patience and all of that father love that he puts into this recipe makes it really special. You can prepare mutton masala or tariwala mutton by just adjusting the quantity of the last added water. That’s what we do when everybody in the family is in a different mood for having masala or the tari and both taste incredible! He always used to cook this when me and my sister where kids and I only used to eat the mutton prepared by him. I then specially learned it from him and i cook it now in the family usually but how much ever I try the one he prepares is unbeatable. This is a must try! Best enjoyed over a Sunday lunch-brunch and a good afternoon sleep! Cheers! P.s. my dad is an amazing cook and a lot of me is him! Thank you dad I love you the most! ❤️ (Please don’t get emotional 🤗🤗) and also mom & dad look so cute together. That’s dad cooking mutton some 30 odd years back. Following his footsteps always and mom don’t be angry, you know I have used a lot of your recipes, next time i will do a recipe dedicated to you soon! ❤️❤️....#recipes #recipeoftheday #foodporn #foodphotography #mutton #muttonrecipes #yummyfood #streetfood #indianfood #india_ig #mumbaifoodie #sanjyotkeer\n",
      "===========================================================================\n",
      "Masala Paneer Pakora by Chef @sanjyotkeer....Paneer pakora is an awesome recipe but often I have found it to be bland from the inside and i always used ti wonder if i could make this tastier. i have added chutneys into the pakora before, even different fillings but this time i decided to make a masaledar home made paneer recipe which could have its own distinct flavour and it turned out to be awesome. you can also use this paneer in various different recipes! Do try out the recipe! cheers!...#recipe #pakora #foodie #foodporn #indianfood #streetfood #sanjyotkeer\n",
      "===========================================================================\n",
      "Masala Paneer Pakora Recipe made with homemade masala paneer is out now on Facebook and YouTube, check it out! Paneer pakora is an awesome recipe but often I have found it to be bland from the inside and i always used ti wonder if i could make this tastier. i have added chutneys into the pakora before, even different fillings but this time i decided to make a masaledar home made paneer recipe which could have its own distinct flavour and it turned out to be awesome. you can also use this paneer in various different recipes! Do try out the recipe! cheers!....#recipe #foodie #indiancuisine #paneer #masala #paneerrecipes #pakora #pakoras #foodporn #foodstagram #streetfood #sanjyotkeer #instadaily\n",
      "===========================================================================\n",
      "Veg Kolhapuri by Chef @sanjyotkeer ....#recipes #kholapuri #foodporn #foodstagram #indianfood #indiancuisine #sanjyotkeer\n",
      "===========================================================================\n",
      "Unlimited Karachi Kulcha In Rs 199 OnlyUnlimited Karachi Kulcha In Just Rs. 199 At Sardar Ji Family Restaurant, Rajouri Garden Chowk With Karan DuaContest Alert : Win Rs. 51000 In 51 MinutesTag Karo Bhukkad Dosto ko #dilsefoodie\n",
      "===========================================================================\n",
      "India's First Place Who Invent Biggest Thali At Aao Ji Khao Ji, PuneHave you been to this place ?#dilsefoodie\n",
      "===========================================================================\n",
      "Anyone Here Paneer Lover ?#dilsefoodie #reelkarofeelkaro\n",
      "===========================================================================\n",
      "Aloo Nada Chaat At Jari Patka, NagpurTag Someone Who would love to eat this.#dilsefoodie\n",
      "===========================================================================\n",
      "Best Tandoori Momos In South Delhi ?Which One Your Favourite ?1. Hunger Strike2. Chawsan Chef3. Concept Shawarma4. Qds #dilsefoodie\n",
      "===========================================================================\n",
      "Brawan Di Hatti Ke Chole BhatureJao Bhai Taste Karke Aao Sunday Aane Wala Hai Plan Banao.#dilsefoodie\n",
      "===========================================================================\n",
      "Full Menu Unlimited At Rs. 399 Per HeadAt Janak Taste Budz, Janakpuri Have you been to this place ? Tag Your Bhookad Dost#dilsefoodie\n",
      "===========================================================================\n",
      "Desi Chowmein At China Gate Fast Food, M2K Rani Bagh#dilsefoodie #chowmein\n",
      "===========================================================================\n",
      "Prince Chaat Bhandar At Amar Colony Lajpat Nagar 4You must be knowing this popular place in GK market. But Now Mahesh Bhaiya Shifted To Amar Colony Market. The Original @princechaatbhandar#dilsefoodie #princechaatbhandaar\n",
      "===========================================================================\n",
      "PubG Wala Dosa At Suraj Dosa Wala, Nagpur #dilsefoodie #reelkarofeelkaro\n",
      "===========================================================================\n",
      "We love all ARAKU coffees equally, so we got some Good Samaritans to help us do a quick #ARAKUTasteTest.@eeshaankas , @gitanasingh , @anjali__batra and @shuchirsuri joined us to pick their favourite ARAKU Coffee in their choice of brewing method.Spoiler: @arakucoffeein got 10/10 😉\n",
      "===========================================================================\n",
      "Seeing, they say, is believing! 👀Many of us wonder why our home cooking doesn’t look as perfect, symmetrical, and shiny as food seen in adverts. We have unveiled publicists' intelligent tricks in making fake food look so appetising...💯\n",
      "===========================================================================\n",
      "It's World Coffee Day and we have the perfect destination for you to get your coffee fix! Coffee noob or expert, we've got answers for you all with Sixteen Grams Coffee! ☕️Taking pride in being India's first specialty coffee marketplace, their mission is simple: bringing quality coffee to people, and they're acing it! Matching your unique taste preferences with coffees from the country’s best coffee roasters - each has a story of its own to tell that goes ‘brew-tifully’ with an aromatic cuppa!Ever wondered what ’THE’ coffee for you tastes like? The answer’s just a quick quiz away. Head to @sixteengramscoffee now and celebrate the day with your perfect match! ☕️\n",
      "===========================================================================\n",
      "With #InternationalCoffeeDay just a day away, we got thinking, a nice brewed cup of coffee with a good Tiramisu, is a match made in heaven! And @bain_marie_patisserie has been acing the classic Tiramisu, which is just want you need to celebrate #InternationalCoffeeDay tomorrow. .A Tiramisu that’ll transport you to the streets of Italy and that’s definitely the perfect way to celebrate coffee! DM them and order yours today. .Delivering in Delhi NCR. Contact details: 9999931349\n",
      "===========================================================================\n",
      "Come October first week, bars and restaurants to reopen in Maharashtra! After a long wait for months, you will finally be able to dine at your favourite restaurants instead of ordering in. .However, to ensure that this does not lead to community spread of the virus, the establishments have agreed to restart at 50 percent capacity to maintain social distancing. So head to your fav local bar/eatry and give them the  support they need! .PS. Bars and restaurants are taking the utmost measures to ensure everyone’s safety. Do not forget your masks!\n",
      "===========================================================================\n",
      "#NewInTown  ",
      "Sushi and Ramen burgers!? Yes you heard it right, @surabobyradhika is an Asian, Italian & Mexican Burgs {burger} and Bubble Tea food delivery service from home, where everything is homemade and 100% vegetarian {vegan options are available too}. Inspired by Japanese Burgers and Taiwanese Bubble Tea (Both Milk & Fruit) they have taken the concept a little further and are doing Chinese, Indian, Italian and Mexican Burgs, incorporating flavours of other parts of the world.  ",
      ".So get your fix of fusion food now and order yourself these delish bunless-burgs! Delivery across Delhi/NCR. .Orders can be placed via Insta DM/ Call 9910625711\n",
      "===========================================================================\n",
      "From delicious lotus biscoff cheesecakes to belgian chocolate bundts and apple crumble cookies, @bisoubys got all the right treats for your sweet tooth. 😍 It’ll definitely live upto your expectation!. Order yours now, DM or Whatsapp on +919888082828 .Address: Pick ups & Delivery from DLF Phase 2, Gurugram\n",
      "===========================================================================\n",
      "Happy Pancake Day Peeps! 🥞😊.We’ve got 4 ways for you to up your pancake game, that go way beyond your regular maple syrup:.1. Bacon candy🥓For a sweet, salty and crispy topping, bake bacon with sugar until it’s very brown. After it cools, crumble it on top of your pancakes. .2. Fruit syrups and compotes🍊🍑If you’re going to dump liquid sugar over your pancakes, it might as well have some antioxidants, right? Try making your own syrups with apricots, blueberries, cranberries or oranges..3. Flavored whipped cream☕️😍Add a dose of vanilla extract or brewed espresso to freshly whipped cream. Or, if you have nowhere else to be after breakfast, beat in some bourbon..4. Cooked fruit🍏🍐For a (slightly) healthier topping, sauté diced apples, pears or peaches in butter with a little sugar, cinnamon and a pinch of salt until tender. Or make a berry compote to spoon over your pancakes..Picture credits: @anna_wierzbinska\n",
      "===========================================================================\n",
      "Its the weekend! 🥳 . .Step aside coffee☕️, this is a job for alcohol🍷\n",
      "===========================================================================\n",
      "#TalkRecipeLemony Chicken Stir-Fry .Bright and lemony, this super-fast chicken stir-fry makes an excellent weeknight dinner..Ingredients:.* 2 tablespoons olive oil ",
      "*  1/2 onion, finely chopped ",
      "*  3 garlic cloves, minced ",
      "*  2 pounds skinless, boneless chicken breasts or trimmed thighs, cut into 3/4-inch pieces ",
      "*  1 tablespoon soy sauce, plus more for seasoning ",
      "*  1/4 teaspoon toasted sesame oil ",
      "*  Salt ",
      "*  Ground pepper ",
      "*  1 tablespoon plus 1 teaspoon finely grated lemon zest ",
      "*  2 tablespoons fresh lemon juice ",
      "*  1 scallion, thinly sliced ",
      "*  Steamed rice, for serving ",
      "Directions:.In a large skillet, heat the olive oil. Add the onion and cook over moderate heat, stirring, until softened, 4 minutes. Add the garlic and cook for 1 minute. Add the chicken and cook over moderately high heat, stirring occasionally, until browned all over, 3 minutes. Stir in the soy sauce and sesame oil, season with salt and pepper and stir-fry until the chicken is cooked through, 3 minutes longer. Remove from the heat and stir in the lemon zest and lemon juice. Season with salt, pepper and soy sauce. Transfer the chicken to a platter, top with the sliced scallion and serve with rice.Recipe Credits: @whiteonricecouple\n",
      "===========================================================================\n",
      "Tag a who's momos treat is pending 🙄I literally had street sided momos after 6 month's 😌Feels so good❤Location: Opposite to Dominos, IP Extension 📌#streetfood #momos #postcovid19 #foodyypreneur #roadside\n",
      "===========================================================================\n",
      "TAG A MAGGI LOVER❤Vegetable Maggi is love💋#punjabitadka #maggi#follow #webstagram #colorful#veggies #Picoftheday  #Like4like #likesforlikes #sunday #instantnoodles #nomnom #indianfood#brunch #noodles #delicious #dfordelhi #eeeeeats#foodaholic #foodblogger #indian #foodphotography #foodporn#foodcoma #instafood #soulfood #foodshot #Picoftheday #maggiindia\n",
      "===========================================================================\n",
      "Saturday Brunch Be Like 💫Masala Dosa Or Paneer Dosa?Street food is being missed❤️Location: Madrasi South Indian, Karkadooma. #breakfastgoals #breakfast #breakfastideas #foodyypreneur\n",
      "===========================================================================\n",
      "How about a Deluxe Thaali?Dal Makhni, Shahi Paneer, Mix Veg, Raita, Rice, Lacha Parantha, Butter Naan, Salad && Gulab Jamun❤TAG A  VEGETARIAN ❗#punjabitadka #dinnergoals #dinnerideas #foodyypreneur\n",
      "===========================================================================\n",
      "Evening chaii party goal's ❤Maggi, Onion Rings, Maska Pav && Cheese Toast❤#eveningchai #dfordelhi #foodyypreneur #evening\n",
      "===========================================================================\n",
      "Dream Cake❤️Such an amazing cake to surprise your mom with 😍Thank you @partyloverofficial @brothersbakeryofficial for this beautiful cake 🧿This Cake had Spotify snack code as well, playing songs becomes easy && The best part is this bakery is available  24x7 🙈#cake #birthdaycake #birthday #cakes\n",
      "===========================================================================\n",
      "Weekend Lunch Goals Be Like❤Can you finish this in one go?#lunchgoals #lunchdate #lunchtime #foodyypreneur\n",
      "===========================================================================\n",
      "Simple Peppy Paneer Pizza 🍕#pizzaisbae #pizzaislife#pizza #foodyypreneur\n",
      "===========================================================================\n",
      "Hum toh tere aashiq hain sadiyon puraane💕This video has my ❤#instavideos #instagood #instavideo #video\n",
      "===========================================================================\n",
      "World's Best Combo❤️Hakka Noodles && Chilly Chicken 💫📌 Asian Fun, Noida 37 #noodles #chillychicken #foodyypreneur #bestcombo\n",
      "===========================================================================\n",
      "Super creamy hummus, steamed spinach and garlic fried mushrooms on your favourite bread by @theplantifulchef 🌱 make a great snack - what's your favourite toast topping? 😋-#plantbasedrecipe #foodie #veganrecipes #healthyrecipes #healthyrecipe #vegetarianfood #vegetarianrecipes #plantbaseddinner #veganrecipe #vegan #vegantoast #veganfood #plantbasedvegan #plantbasedmeal #whatveganseat #vegansandwich #plantbaseddiet #vegansofig #vegandinner #vegetarian #plantbased #plantbasedrecipes #hummus #plantbasedmeals #veganfoodshare #plantbase #healthydinner #veganized #veganlunch #vegans\n",
      "===========================================================================\n",
      "I’m sorry if you’re hungry 🤤 @food 🤤 Surf n’ Turf burrito from @sonoritasla -#burrito #food #lunch #foodie #foodporn #foodphotography #foodiesofinstagram #foodblogger #foodprep #foodpics #eat #eathealthy #love #lifestyle #healthylifestyle\n",
      "===========================================================================\n",
      "Breakfast with @goodeatswithcon 🤤dEATS: @traderjoeslist cauliflower gnocchi sauteed in a pan with 21 seasoning + 2 scrambled @vitalfarms eggs with spinach + sliced avocado topped with EBTB seasoning and red chili flakes -Follow & Tag @Food 😍 -#foodie #foodporn #food #foodblogger #love #breakfast #avocadotoast #gnocchi #eggs #foodiegram #foodphotography #foodlover #foodinsta\n",
      "===========================================================================\n",
      "My mouth is melting 🤤 Vegan quesadillas with mushrooms and beans 😍 By @elavegan ❤️ -#quesadilla #vegan #food #foodporn #foodphotography #foodblogger #foodie #delicious #foodprep #love #yummy #tasty #heresmyfood #veganfood\n",
      "===========================================================================\n",
      "That looks delicious 😍🥴 #avocadotoast by @sara.haven -Follow and tag @food 🥬🍳🍔🥙🥗-#foodporn #food #foodie #avocado #toast #eggs #breakfast #healthy #health #wellness #healthyfood #foodphotography #foodblogger #love #eat #eathealthy #eatclean\n",
      "===========================================================================\n",
      "Are you?⁠⁠⁠📸: @frostedandfried⁠⁠⁠#vote #registertovote #november3rd #earlyvoting #votevotevote #cake\n",
      "===========================================================================\n",
      "Have you had @edithsbk bagels? ⁠⁠⁠#bagels #brooklyn #greenpoint #ediths #breakfast #eat #food #freshfood #bakery #popup\n",
      "===========================================================================\n",
      "When the poke is done right👌 @shahs_eat_first ⁠⁠⁠⁠#poke #ahituna #ahi #tuna #fresh #fish #yum #food #eat\n",
      "===========================================================================\n",
      "Soooo, we're going to need one of these as soon as possible... @fabianvhv ⁠⁠⁠⁠#pbj #pbandj #pbjpuffyroll #pasty #omg #food #foodie #indulgent #wildair⁠⁠⁠⁠\n",
      "===========================================================================\n",
      "Brussels Sprouts might be the most underrated vegetable. Agree or disagree? @chowhound @reciperunner⁠⁠⁠#food #brussels #brusselssprouts #vegetable #underrated #agreeordisagree #roasted #yum #chowhound\n",
      "===========================================================================\n"
     ]
    }
   ],
   "source": [
    "for i in content:\n",
    "    print(i)\n",
    "    print(\"===========================================================================\")"
   ]
  },
  {
   "cell_type": "markdown",
   "metadata": {},
   "source": [
    "# Q2.2 Prepare a list of all words used in all the scraped posts and calculate the frequency of each word."
   ]
  },
  {
   "cell_type": "code",
   "execution_count": 231,
   "metadata": {},
   "outputs": [],
   "source": [
    "# ASSUMPTION ----->  calculating frequency of hashtag because calculating freqeuncy of each words is meaningless\n",
    "\n",
    "def count_hashtag(hashtags):\n",
    "    hashtags=np.array(hashtags)\n",
    "    hash_tags=[]#it will contain all the actual hashtags, where all the usernames are filtered from the hashtags array\n",
    "    for i in hashtags:\n",
    "        if not i[0]=='@' and i!='':\n",
    "            hash_tags.append(i)\n",
    "    dic_fre=dict()#this will store the frequencies of all the hashtags\n",
    "    for i in hash_tags:\n",
    "        dic_fre[i] = dic_fre.get(i,0)+1\n",
    "    return dic_fre"
   ]
  },
  {
   "cell_type": "code",
   "execution_count": 232,
   "metadata": {},
   "outputs": [],
   "source": [
    "h_fre = count_hashtag(hashtags)"
   ]
  },
  {
   "cell_type": "code",
   "execution_count": 233,
   "metadata": {},
   "outputs": [
    {
     "data": {
      "text/plain": [
       "{'#recipe': 5,\n",
       " '#foodie': 12,\n",
       " '#comfortfood': 2,\n",
       " '#streetfood': 9,\n",
       " '#indiancuisine': 5,\n",
       " '#sanjyotkeer': 8,\n",
       " '#soyachaap': 2,\n",
       " '#recipes': 4,\n",
       " '#food': 9,\n",
       " '#foodporn': 18,\n",
       " '#deliciousfood': 1,\n",
       " '#mumbaifoodie': 2,\n",
       " '#mumbaistreetfood': 2,\n",
       " '#cooking': 1,\n",
       " '#foodiesofinstagram': 4,\n",
       " '#indianfood': 12,\n",
       " '#yourfoodlab': 1,\n",
       " '#foodphotography': 14,\n",
       " '#sheera': 2,\n",
       " '#recipeoftheday': 2,\n",
       " '#yummy😋😋': 1,\n",
       " '#sweetdish': 1,\n",
       " '#breakfastideas': 2,\n",
       " '#sweetlover': 1,\n",
       " '#pineapple': 1,\n",
       " '#instadaily': 2,\n",
       " '#mutton': 1,\n",
       " '#muttonrecipes': 1,\n",
       " '#yummyfood': 1,\n",
       " '#india_ig': 1,\n",
       " '#pakora': 2,\n",
       " '#paneer': 1,\n",
       " '#masala': 1,\n",
       " '#paneerrecipes': 1,\n",
       " '#pakoras': 1,\n",
       " '#foodstagram': 3,\n",
       " '#kholapuri': 1,\n",
       " '#dilsefoodie': 10,\n",
       " '#reelkarofeelkaro': 2,\n",
       " '#chowmein': 1,\n",
       " '#princechaatbhandaar': 1,\n",
       " '#ARAKUTasteTest': 1,\n",
       " '#arakucoffee': 1,\n",
       " '#specialitycoffee': 1,\n",
       " '#tastetest': 1,\n",
       " '#makeyourpick': 1,\n",
       " '#coffee': 1,\n",
       " '#coffeelover': 1,\n",
       " '#coffeelove': 1,\n",
       " '#coffeelife': 1,\n",
       " '#coffeeconnoisseurs': 1,\n",
       " '#coffeeofinstagram': 1,\n",
       " '#InternationalCoffeeDay': 2,\n",
       " '#NewInTown': 1,\n",
       " '#TalkRecipe': 1,\n",
       " '#momos': 1,\n",
       " '#postcovid19': 1,\n",
       " '#foodyypreneur': 7,\n",
       " '#roadside': 1,\n",
       " '#punjabitadka': 8,\n",
       " '#maggi': 6,\n",
       " '#follow': 7,\n",
       " '#webstagram': 8,\n",
       " '#colorful': 8,\n",
       " '#veggies': 8,\n",
       " '#Picoftheday': 11,\n",
       " '#Like4like': 8,\n",
       " '#likesforlikes': 8,\n",
       " '#sunday': 8,\n",
       " '#instantnoodles': 8,\n",
       " '#nomnom': 8,\n",
       " '#brunch': 8,\n",
       " '#noodles': 9,\n",
       " '#delicious': 9,\n",
       " '#dfordelhi': 10,\n",
       " '#eeeeeats': 8,\n",
       " '#foodaholic': 8,\n",
       " '#foodblogger': 12,\n",
       " '#indian': 8,\n",
       " '#foodcoma': 5,\n",
       " '#instafood': 5,\n",
       " '#soulfood': 3,\n",
       " '#foodshot': 3,\n",
       " '#maggiindia': 1,\n",
       " '#breakfastgoals': 1,\n",
       " '#breakfast': 6,\n",
       " '#dinnergoals': 1,\n",
       " '#dinnerideas': 1,\n",
       " '#eveningchai': 1,\n",
       " '#evening': 1,\n",
       " '#cake': 2,\n",
       " '#birthdaycake': 1,\n",
       " '#birthday': 1,\n",
       " '#cakes': 1,\n",
       " '#foodiegram': 2,\n",
       " '#feedyoursoull': 1,\n",
       " '#followbackteam': 1,\n",
       " '#foodlocked': 1,\n",
       " '#foods': 1,\n",
       " '#foodaddict': 1,\n",
       " '#foodography': 1,\n",
       " '#sodelhi': 1,\n",
       " '#foodtalkindia': 1,\n",
       " '#dilli6': 1,\n",
       " '#instafollowers': 1,\n",
       " '#instalikes': 1,\n",
       " '#foodies': 1,\n",
       " '#mumbaifoodlovers': 1,\n",
       " '#foodgawker': 1,\n",
       " '#tastyfood': 1,\n",
       " '#mumbai': 1,\n",
       " '#delhi': 1,\n",
       " '#newdelhi': 1,\n",
       " '#delhifood': 1,\n",
       " '#goodfood': 1,\n",
       " '#dinnertable': 1,\n",
       " '#lunchgoals': 1,\n",
       " '#lunchdate': 1,\n",
       " '#lunchtime': 1,\n",
       " '#pizzaisbae': 1,\n",
       " '#pizzaislife': 1,\n",
       " '#pizza': 1,\n",
       " '#instavideos': 1,\n",
       " '#instagood': 1,\n",
       " '#instavideo': 1,\n",
       " '#video': 1,\n",
       " '#chillychicken': 1,\n",
       " '#bestcombo': 1,\n",
       " '#plantbasedrecipe': 1,\n",
       " '#veganrecipes': 1,\n",
       " '#healthyrecipes': 1,\n",
       " '#healthyrecipe': 1,\n",
       " '#vegetarianfood': 1,\n",
       " '#vegetarianrecipes': 1,\n",
       " '#plantbaseddinner': 1,\n",
       " '#veganrecipe': 1,\n",
       " '#vegan': 2,\n",
       " '#vegantoast': 1,\n",
       " '#veganfood': 2,\n",
       " '#plantbasedvegan': 1,\n",
       " '#plantbasedmeal': 1,\n",
       " '#whatveganseat': 1,\n",
       " '#vegansandwich': 1,\n",
       " '#plantbaseddiet': 1,\n",
       " '#vegansofig': 1,\n",
       " '#vegandinner': 1,\n",
       " '#vegetarian': 1,\n",
       " '#plantbased': 1,\n",
       " '#plantbasedrecipes': 1,\n",
       " '#hummus': 1,\n",
       " '#plantbasedmeals': 1,\n",
       " '#veganfoodshare': 1,\n",
       " '#plantbase': 1,\n",
       " '#healthydinner': 1,\n",
       " '#veganized': 1,\n",
       " '#veganlunch': 1,\n",
       " '#vegans': 1,\n",
       " '#burrito': 1,\n",
       " '#lunch': 1,\n",
       " '#foodprep': 2,\n",
       " '#foodpics': 1,\n",
       " '#eat': 4,\n",
       " '#eathealthy': 2,\n",
       " '#love': 4,\n",
       " '#lifestyle': 1,\n",
       " '#healthylifestyle': 1,\n",
       " '#avocadotoast': 2,\n",
       " '#gnocchi': 1,\n",
       " '#eggs': 2,\n",
       " '#foodlover': 1,\n",
       " '#foodinsta': 1,\n",
       " '#quesadilla': 1,\n",
       " '#yummy': 1,\n",
       " '#tasty': 1,\n",
       " '#heresmyfood': 1,\n",
       " '#avocado': 1,\n",
       " '#toast': 1,\n",
       " '#healthy': 1,\n",
       " '#health': 1,\n",
       " '#wellness': 1,\n",
       " '#healthyfood': 1,\n",
       " '#eatclean': 1,\n",
       " '#vote': 1,\n",
       " '#registertovote': 1,\n",
       " '#november3rd': 1,\n",
       " '#earlyvoting': 1,\n",
       " '#votevotevote': 1,\n",
       " '#bagels': 1,\n",
       " '#brooklyn': 1,\n",
       " '#greenpoint': 1,\n",
       " '#ediths': 1,\n",
       " '#freshfood': 1,\n",
       " '#bakery': 1,\n",
       " '#popup': 1,\n",
       " '#poke': 1,\n",
       " '#ahituna': 1,\n",
       " '#ahi': 1,\n",
       " '#tuna': 1,\n",
       " '#fresh': 1,\n",
       " '#fish': 1,\n",
       " '#yum': 2,\n",
       " '#pbj': 1,\n",
       " '#pbandj': 1,\n",
       " '#pbjpuffyroll': 1,\n",
       " '#pasty': 1,\n",
       " '#omg': 1,\n",
       " '#indulgent': 1,\n",
       " '#wildair': 1,\n",
       " '#Coffee': 1,\n",
       " '#Coffeebeans': 1,\n",
       " '#Coffeeexp': 1,\n",
       " '#roastedcoffeebeans': 1,\n",
       " '#pregroundcoffee': 1,\n",
       " '#Specialtycoffeebeans': 1,\n",
       " '#roastedspecialtycoffeebeans': 1,\n",
       " '#ourcoffeeexp': 1,\n",
       " '#homemadecoffee': 1,\n",
       " '#coffeeacessories': 1,\n",
       " '#dessert': 1,\n",
       " '#breaksfast': 1,\n",
       " '#tasteoflife': 1,\n",
       " '#enjoyoflife': 1,\n",
       " '#teatime': 1,\n",
       " '#teatimesnack': 1,\n",
       " '#brussels': 1,\n",
       " '#brusselssprouts': 1,\n",
       " '#vegetable': 1,\n",
       " '#underrated': 1,\n",
       " '#agreeordisagree': 1,\n",
       " '#roasted': 1,\n",
       " '#chowhound': 1}"
      ]
     },
     "execution_count": 233,
     "metadata": {},
     "output_type": "execute_result"
    }
   ],
   "source": [
    "h_fre"
   ]
  },
  {
   "cell_type": "markdown",
   "metadata": {},
   "source": [
    "# Q2.3 Create a csv file with two columns : the word and its frequency"
   ]
  },
  {
   "cell_type": "code",
   "execution_count": 234,
   "metadata": {},
   "outputs": [],
   "source": [
    "def create_csv(dic):\n",
    "    with open('test.csv', 'w', encoding=\"utf-8\") as f:\n",
    "        for key in h_fre.keys():\n",
    "            f.write(\"%s,%s\\n\"%(key,h_fre[key]))\n",
    "#     hash_word=np.array([i[1:] for i in dic.keys()])\n",
    "#     frequency=np.array([i for i in dic.values()])\n",
    "#     df=pd.DataFrame()\n",
    "#     df['Words']=hash_word\n",
    "#     df['Frequency']=frequency\n",
    "#     df.to_csv('Hashtag_Frequencies.csv')"
   ]
  },
  {
   "cell_type": "code",
   "execution_count": 235,
   "metadata": {},
   "outputs": [],
   "source": [
    "create_csv(h_fre)"
   ]
  },
  {
   "cell_type": "markdown",
   "metadata": {},
   "source": [
    "# Q2.4 Now, find the hashtags that were most popular among these bloggers"
   ]
  },
  {
   "cell_type": "code",
   "execution_count": 236,
   "metadata": {},
   "outputs": [],
   "source": [
    "# for most popular hashtag, I'll be displaying top 10 tags\n",
    "def most_pop_hashtags(h_fre):\n",
    "    qwerty = {}\n",
    "    asdf=0\n",
    "    for k,v in sorted(h_fre.items(), key=lambda item: item[1], reverse = True):\n",
    "        qwerty[k] = v\n",
    "        asdf+=1\n",
    "        if asdf > 9:\n",
    "            break\n",
    "    return qwerty"
   ]
  },
  {
   "cell_type": "code",
   "execution_count": 237,
   "metadata": {},
   "outputs": [],
   "source": [
    "qwerty = most_pop_hashtags(h_fre)"
   ]
  },
  {
   "cell_type": "code",
   "execution_count": 238,
   "metadata": {},
   "outputs": [
    {
     "name": "stdout",
     "output_type": "stream",
     "text": [
      "top 10 hashtags that were most popular among these bloggers are:\n"
     ]
    },
    {
     "data": {
      "text/plain": [
       "{'#foodporn': 18,\n",
       " '#foodphotography': 14,\n",
       " '#foodie': 12,\n",
       " '#indianfood': 12,\n",
       " '#foodblogger': 12,\n",
       " '#Picoftheday': 11,\n",
       " '#dilsefoodie': 10,\n",
       " '#dfordelhi': 10,\n",
       " '#streetfood': 9,\n",
       " '#food': 9}"
      ]
     },
     "execution_count": 238,
     "metadata": {},
     "output_type": "execute_result"
    }
   ],
   "source": [
    "print(\"top 10 hashtags that were most popular among these bloggers are:\")\n",
    "qwerty"
   ]
  },
  {
   "cell_type": "markdown",
   "metadata": {},
   "source": [
    "# Q2.5 Plot a Pie Chart of the top 5 hashtags obtained and the number of times they were used by these bloggers in the scraped posts."
   ]
  },
  {
   "cell_type": "code",
   "execution_count": 263,
   "metadata": {},
   "outputs": [],
   "source": [
    "def q2_chart(qwerty):\n",
    "    x_a=[]\n",
    "    y_a=[]\n",
    "    countt=0\n",
    "    for k,v in qwerty.items():\n",
    "        x_a.append(k)\n",
    "        y_a.append(v)\n",
    "        if countt>3:\n",
    "            break\n",
    "        countt+=1\n",
    "    plt.figure(figsize=(10, 10))\n",
    "    plt.pie(y_a, labels=x_a, autopct='%.2f%%', shadow=True, labeldistance=1.2)\n",
    "    plt.title('Pie Chart of the top 5 hashtags ')\n",
    "    plt.show()"
   ]
  },
  {
   "cell_type": "code",
   "execution_count": 264,
   "metadata": {},
   "outputs": [
    {
     "data": {
      "image/png": "[encoded data removed]",
      "text/plain": [
       "<Figure size 720x720 with 1 Axes>"
      ]
     },
     "metadata": {},
     "output_type": "display_data"
    }
   ],
   "source": [
    "q2_chart(qwerty)"
   ]
  },
  {
   "cell_type": "markdown",
   "metadata": {},
   "source": [
    "# Q3.1 Find out the likes of the top 10 posts of the 5 handles obtained earlier."
   ]
  },
  {
   "cell_type": "code",
   "execution_count": 265,
   "metadata": {},
   "outputs": [],
   "source": [
    "def likes_p(handles):\n",
    "    like=[]\n",
    "    for page in handles:\n",
    "        driver.get('https://www.instagram.com/' + page + '/')\n",
    "        time.sleep(3)\n",
    "        count=0\n",
    "        likes=0\n",
    "        for i in driver.find_elements_by_xpath('//div[@class=\"_9AhH0\"]'):\n",
    "            i.click()\n",
    "            #clicks on the post of the user being iterated.\n",
    "            try:\n",
    "                WebDriverWait(driver, 5).until(EC.presence_of_element_located((By.XPATH, '/html/body/div[4]/div[2]/div/article/div[3]/section[2]/div/span/span')))\n",
    "                likes+=int(\"\".join(driver.find_element_by_xpath('/html/body/div[4]/div[2]/div/article/div[3]/section[2]/div/span/span').get_attribute('innerHTML').split(',')))\n",
    "            except TimeoutException:\n",
    "                WebDriverWait(driver, 5).until(EC.presence_of_element_located((By.XPATH, '/html/body/div[4]/div[2]/div/article/div[3]/section[2]/div/div/button/span')))\n",
    "                likes+=int(\"\".join(driver.find_element_by_xpath('/html/body/div[4]/div[2]/div/article/div[3]/section[2]/div/div/button/span').get_attribute('innerHTML').split(',')))\n",
    "            count+=1\n",
    "            if count>=10:\n",
    "                driver.find_element_by_xpath('/html/body/div[4]/div[3]/button').click()\n",
    "                break\n",
    "            driver.find_element_by_xpath('/html/body/div[4]/div[3]/button').click()\n",
    "            time.sleep(1)\n",
    "        like.append(likes)\n",
    "    return like"
   ]
  },
  {
   "cell_type": "code",
   "execution_count": 266,
   "metadata": {},
   "outputs": [],
   "source": [
    "likes_list = likes_p(first_5)"
   ]
  },
  {
   "cell_type": "code",
   "execution_count": 267,
   "metadata": {},
   "outputs": [
    {
     "data": {
      "text/plain": [
       "[1845809, 417390, 24489, 52779, 16293]"
      ]
     },
     "execution_count": 267,
     "metadata": {},
     "output_type": "execute_result"
    }
   ],
   "source": [
    "likes_list"
   ]
  },
  {
   "cell_type": "markdown",
   "metadata": {},
   "source": [
    "# Q3.2 Calculate the average likes for a handle."
   ]
  },
  {
   "cell_type": "code",
   "execution_count": 268,
   "metadata": {},
   "outputs": [],
   "source": [
    "def avg_like(likes_list):\n",
    "    avrg_like=[]\n",
    "    for i in likes_list:\n",
    "        avrg_like.append(i/10)\n",
    "    return avrg_like"
   ]
  },
  {
   "cell_type": "code",
   "execution_count": 278,
   "metadata": {},
   "outputs": [
    {
     "name": "stdout",
     "output_type": "stream",
     "text": [
      "Average like per post\n",
      "[184580.9, 41739.0, 2448.9, 5277.9, 1629.3]\n"
     ]
    }
   ],
   "source": [
    "avrg_like=avg_like(likes_list)\n",
    "print(\"Average like per post\")\n",
    "print(avrg_like)"
   ]
  },
  {
   "cell_type": "markdown",
   "metadata": {},
   "source": [
    "# Q3.3 Divide the average likes obtained from the number of followers of the handle to get the average followers:like ratio of each handle."
   ]
  },
  {
   "cell_type": "code",
   "execution_count": 283,
   "metadata": {},
   "outputs": [],
   "source": [
    "def ratio(first_10):\n",
    "    fot5=[]\n",
    "    for page in first_10:\n",
    "        driver.get('https://www.instagram.com/' + page + '/')\n",
    "        time.sleep(3)\n",
    "        fot5.append(int(\"\".join(driver.find_element_by_xpath('//*[@id=\"react-root\"]/section/main/div/header/section/ul/li[2]/a/span').get_attribute('title').split(','))))\n",
    "    ans=[]\n",
    "    for i in fot5:\n",
    "        print(i)\n",
    "    for i in range(5):\n",
    "        ans.append(fot5[i]/avrg_like[i])\n",
    "#     print(fot5)\n",
    "    return ans"
   ]
  },
  {
   "cell_type": "code",
   "execution_count": 284,
   "metadata": {},
   "outputs": [
    {
     "name": "stdout",
     "output_type": "stream",
     "text": [
      "followers = \n",
      "1400946\n",
      "615100\n",
      "302295\n",
      "94174\n",
      "84196\n",
      "no. of followers/avg. likes = \n"
     ]
    },
    {
     "data": {
      "text/plain": [
       "[7.589875225443153,\n",
       " 14.736816885886102,\n",
       " 123.4411368369472,\n",
       " 17.843081528638287,\n",
       " 51.67617995458173]"
      ]
     },
     "execution_count": 284,
     "metadata": {},
     "output_type": "execute_result"
    }
   ],
   "source": [
    "# avg follower / like\n",
    "print(\"followers = \")\n",
    "ans = ratio(first_5)\n",
    "print(\"no. of followers/avg. likes = \")\n",
    "ans"
   ]
  },
  {
   "cell_type": "markdown",
   "metadata": {},
   "source": [
    "# Q3.4 Create a bar graph to depict the above obtained information."
   ]
  },
  {
   "cell_type": "code",
   "execution_count": 286,
   "metadata": {},
   "outputs": [],
   "source": [
    "def q3_graph(first_10,ans):\n",
    "    plt.figure(figsize=(10,7))\n",
    "    plt.bar(first_10, ans, color='orange')\n",
    "    plt.xticks(rotation=45, size=12)\n",
    "    plt.xlabel('Users---->', size=12)\n",
    "    plt.ylabel('Average followers to likes ratio---->', size=12)\n",
    "    plt.yticks(size=12)\n",
    "    plt.grid()\n",
    "    plt.show()"
   ]
  },
  {
   "cell_type": "code",
   "execution_count": 287,
   "metadata": {},
   "outputs": [
    {
     "data": {
      "image/png": "[encoded data removed]",
      "text/plain": [
       "<Figure size 720x504 with 1 Axes>"
      ]
     },
     "metadata": {
      "needs_background": "light"
     },
     "output_type": "display_data"
    }
   ],
   "source": [
    "q3_graph(first_5,ans)"
   ]
  },
  {
   "cell_type": "code",
   "execution_count": null,
   "metadata": {},
   "outputs": [],
   "source": []
  }
 ],
 "metadata": {
  "kernelspec": {
   "display_name": "Python 3",
   "language": "python",
   "name": "python3"
  },
  "language_info": {
   "codemirror_mode": {
    "name": "ipython",
    "version": 3
   },
   "file_extension": ".py",
   "mimetype": "text/x-python",
   "name": "python",
   "nbconvert_exporter": "python",
   "pygments_lexer": "ipython3",
   "version": "3.8.3"
  }
 },
 "nbformat": 4,
 "nbformat_minor": 4
}
